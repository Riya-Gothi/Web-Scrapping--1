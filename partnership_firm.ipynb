{
 "cells": [
  {
   "cell_type": "code",
   "execution_count": 1,
   "id": "b4621f38",
   "metadata": {},
   "outputs": [],
   "source": [
    "import requests"
   ]
  },
  {
   "cell_type": "code",
   "execution_count": 2,
   "id": "103bd523",
   "metadata": {},
   "outputs": [],
   "source": [
    "from bs4 import BeautifulSoup"
   ]
  },
  {
   "cell_type": "code",
   "execution_count": 3,
   "id": "876f8d1c",
   "metadata": {},
   "outputs": [],
   "source": [
    "import json"
   ]
  },
  {
   "cell_type": "code",
   "execution_count": 4,
   "id": "1726ce02",
   "metadata": {},
   "outputs": [],
   "source": [
    "session=requests.session()"
   ]
  },
  {
   "cell_type": "code",
   "execution_count": 5,
   "id": "2a7ecee5",
   "metadata": {},
   "outputs": [],
   "source": [
    "RETRY_COUNT = 1 "
   ]
  },
  {
   "cell_type": "code",
   "execution_count": 6,
   "id": "998ff130",
   "metadata": {},
   "outputs": [],
   "source": [
    "class PartnershipFirmList:\n",
    "    def __init__(self,icai_number):\n",
    "        self.icai_number=icai_number\n",
    "        self.session=None\n",
    "        self.user_agent=None\n",
    "        self.url_link=\"https://eicmai.in/external/Transaction/OfficesAndFirm/PartnershipFirmList.aspx\"\n",
    "        \n",
    "    def home_page(self):\n",
    "        url_link=\"https://eicmai.in/external/Transaction/OfficesAndFirm/PartnershipFirmList.aspx\"\n",
    "        response=session.get(self.url_link)\n",
    "        if response.status_code == 200:\n",
    "            return response\n",
    "        else:\n",
    "            return \"No response\"\n",
    "        \n",
    "    def parse_with_lxml(self,home_page_response):\n",
    "        soup=BeautifulSoup(home_page_response.text,'lxml')\n",
    "        return soup\n",
    "    \n",
    "    def get_payload_var(self,soup):\n",
    "        __VIEWSTATE = soup.find('input',attrs={'id':'__VIEWSTATE'})[\"value\"]\n",
    "        __VIEWSTATEGENERATOR = soup.find('input',attrs={'id':'__VIEWSTATEGENERATOR'})['value']\n",
    "        return __VIEWSTATE,__VIEWSTATEGENERATOR\n",
    "    \n",
    "    def fetch_data(self,__VIEWSTATE,__VIEWSTATEGENERATOR,icai_number):\n",
    "        url_link=\"https://eicmai.in/external/Transaction/OfficesAndFirm/PartnershipFirmList.aspx\"\n",
    "        headers={\n",
    "            \"origin\":\"https://eicmai.in\",\n",
    "            \"referer\": \"https://eicmai.in/external/Transaction/OfficesAndFirm/PartnershipFirmList.aspx\",\n",
    "            \"user-agent\": \"Mozilla/5.0 (X11; Linux x86_64) AppleWebKit/537.36 (KHTML, like Gecko) Chrome/100.0.4896.127 Safari/537.36\",\n",
    "            \"content-type\": \"application/x-www-form-urlencoded; charset=UTF-8\"\n",
    "         }\n",
    "        payload={\n",
    "             \"ctl00$ContentPlaceHolder1$ScriptManager\": \"ctl00$ContentPlaceHolder1$updpanel|ctl00$ContentPlaceHolder1$ButtonSearch\",\n",
    "            \"__VIEWSTATE\":__VIEWSTATE,\n",
    "            \"__VIEWSTATEGENERATOR\":__VIEWSTATEGENERATOR,\n",
    "            \"ctl00$ContentPlaceHolder1$DropDownList_Fields\": \"FirmNo\",\n",
    "            \"ctl00$ContentPlaceHolder1$DropDownList_CompOperator\":\"=\",\n",
    "            \"ctl00$ContentPlaceHolder1$TextBox_Value\":icai_number,\n",
    "            \"__EVENTTARGET\": \"\",\n",
    "            \"__EVENTARGUMENT\":\"\",\n",
    "            \"__ASYNCPOST\": \"true\",\n",
    "            \"ctl00$ContentPlaceHolder1$ButtonSearch\": \"Search\",\n",
    "        }\n",
    "        response=session.post(self.url_link,headers=headers,data=payload)\n",
    "        return response\n",
    "    \n",
    "    def extract_data(self,soup):\n",
    "        \n",
    "        table_data = soup.find(\"table\",class_ = \"secondline\")\n",
    "        \n",
    "        headers = [th.text.strip() for th in table_data.find_all('th')]\n",
    "        rows = table_data.find_all('tr')\n",
    "        data = []\n",
    "        \n",
    "        for row in rows:\n",
    "            cells = row.find_all('td')\n",
    "            if cells:\n",
    "                items = {headers[i]: cells[i].text.strip() for i in range(len(headers))}\n",
    "                data.append(items)\n",
    "        return json.dumps(data, indent=4)\n",
    "   \n",
    "    def get_output(self):\n",
    "        for retry_num in range(1):\n",
    "            self.session = requests.session()\n",
    "            \n",
    "            home_page_response = self.home_page()\n",
    "            \n",
    "            parsed_data = self.parse_with_lxml(home_page_response)\n",
    "            \n",
    "            VIEWSTATE,VIEWSTATEGENERATOR = self.get_payload_var(parsed_data)\n",
    "            \n",
    "            second_response = self.fetch_data(VIEWSTATE,VIEWSTATEGENERATOR,self.icai_number)\n",
    "            \n",
    "            second_soup = self.parse_with_lxml(second_response)\n",
    "            \n",
    "            output = self.extract_data(second_soup)\n",
    "            return output"
   ]
  },
  {
   "cell_type": "code",
   "execution_count": 7,
   "id": "79908d55",
   "metadata": {},
   "outputs": [
    {
     "name": "stdout",
     "output_type": "stream",
     "text": [
      "[\n",
      "    {\n",
      "        \"SlNo.\": \"1\",\n",
      "        \"Firm No\": \"000023\",\n",
      "        \"Firm Name\": \"N I Mehta & Co.\",\n",
      "        \"Firm Type\": \"Partnership\",\n",
      "        \"Constitution date\": \"21/06/1989\",\n",
      "        \"Deed date\": \"03/05/2021\",\n",
      "        \"Region\": \"WESTERN\",\n",
      "        \"Country\": \"INDIA\",\n",
      "        \"State\": \"MAHARASHTRA\",\n",
      "        \"City\": \"MUMBAI\",\n",
      "        \"View\": \"\"\n",
      "    }\n",
      "]\n"
     ]
    }
   ],
   "source": [
    "if __name__ == '__main__':\n",
    "    print(PartnershipFirmList(\"000023\").get_output())"
   ]
  },
  {
   "cell_type": "code",
   "execution_count": null,
   "id": "fb5da354",
   "metadata": {},
   "outputs": [],
   "source": []
  },
  {
   "cell_type": "code",
   "execution_count": null,
   "id": "40edf2e3",
   "metadata": {},
   "outputs": [],
   "source": []
  }
 ],
 "metadata": {
  "kernelspec": {
   "display_name": "Python 3 (ipykernel)",
   "language": "python",
   "name": "python3"
  },
  "language_info": {
   "codemirror_mode": {
    "name": "ipython",
    "version": 3
   },
   "file_extension": ".py",
   "mimetype": "text/x-python",
   "name": "python",
   "nbconvert_exporter": "python",
   "pygments_lexer": "ipython3",
   "version": "3.8.10"
  }
 },
 "nbformat": 4,
 "nbformat_minor": 5
}
