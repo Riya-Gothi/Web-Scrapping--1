{
 "cells": [
  {
   "cell_type": "code",
   "execution_count": 1,
   "id": "635e3f49",
   "metadata": {},
   "outputs": [],
   "source": [
    "from bs4 import BeautifulSoup\n",
    "import requests\n",
    "import base64"
   ]
  },
  {
   "cell_type": "code",
   "execution_count": 2,
   "id": "57fa76d3",
   "metadata": {},
   "outputs": [],
   "source": [
    "pan = \"AGRPM0511F\""
   ]
  },
  {
   "cell_type": "code",
   "execution_count": 3,
   "id": "86badb8b",
   "metadata": {},
   "outputs": [],
   "source": [
    "def append_char_to_pan(pan):\n",
    "    a_pan = \"#\"+pan[0]+\"xX\"+pan[1]+\"M\"+pan[2]+\"gX\"+pan[3]+\"i\"+pan[4]+\"ta\"+pan[5:7]+\"v\"+pan[7:9]+\"yt\"+pan[9]\n",
    "    return a_pan"
   ]
  },
  {
   "cell_type": "code",
   "execution_count": 4,
   "id": "ad61d168",
   "metadata": {},
   "outputs": [
    {
     "name": "stdout",
     "output_type": "stream",
     "text": [
      "#AxXGMRgXPiMta05v11ytF\n"
     ]
    }
   ],
   "source": [
    "txtpanNo = append_char_to_pan(pan)\n",
    "# I0N4WEFNR2dYUGlOdGE5N3Y3NHl0QQ==\n",
    "print(txtpanNo)"
   ]
  },
  {
   "cell_type": "code",
   "execution_count": 5,
   "id": "b6d773c4",
   "metadata": {},
   "outputs": [
    {
     "name": "stdout",
     "output_type": "stream",
     "text": [
      "encoded pan value:  I0F4WEdNUmdYUGlNdGEwNXYxMXl0Rg==\n"
     ]
    }
   ],
   "source": [
    "conv_bytes = txtpanNo.encode('ascii')\n",
    "b64_bytes = base64.b64encode(conv_bytes)\n",
    "encoded_pan_num = b64_bytes.decode('ascii')\n",
    "\n",
    "print(\"encoded pan value: \",encoded_pan_num)"
   ]
  },
  {
   "cell_type": "code",
   "execution_count": 6,
   "id": "38053473",
   "metadata": {},
   "outputs": [],
   "source": [
    "def pan_search_home():\n",
    "    \n",
    "    url_link = \"https://www.karvykra.com/UPanSearchGlobalWithPanExempt.aspx\"\n",
    "    \n",
    "    headers = {\n",
    "        \"User-Agent\":\"Mozilla/5.0 (X11; Linux x86_64) AppleWebKit/537.36 (KHTML, like Gecko) Chrome/100.0.4896.127 Safari/537.36\"\n",
    "    }\n",
    "    \n",
    "    response = requests.get(url_link,headers=headers)\n",
    "    if response.status_code==200:\n",
    "        return response.content\n",
    "    else:\n",
    "        return \"Service Unreachable\""
   ]
  },
  {
   "cell_type": "code",
   "execution_count": 7,
   "id": "45efb79d",
   "metadata": {},
   "outputs": [],
   "source": [
    "first_response = pan_search_home()"
   ]
  },
  {
   "cell_type": "code",
   "execution_count": 8,
   "id": "f03f595d",
   "metadata": {},
   "outputs": [
    {
     "data": {
      "text/plain": [
       "b'\\r\\n\\r\\n<!DOCTYPE html PUBLIC \"-//W3C//DTD XHTML 1.0 Transitional//EN\" \"http://www.w3.org/TR/xhtml1/DTD/xhtml1-transitional.dtd\">\\r\\n\\r\\n<html xmlns=\"http://www.w3.org/1999/xhtml\">\\r\\n<head id=\"Head1\"><title>\\r\\n\\tKnow Your Status\\r\\n</title>\\r\\n    <script language=\"javascript\" type=\"text/javascript\" src=\"/Scripts/MyHsCode02.js\"></script>\\r\\n    <style type=\"text/css\">\\r\\n        .style4\\r\\n        {\\r\\n            color: #74a501;\\r\\n            font-weight: bold;\\r\\n            font-size: 11pt;\\r\\n        }\\r\\n        .style5\\r\\n        {\\r\\n            height: 24px;\\r\\n        }\\r\\n    </style>\\r\\n    <script language=\"javascript\" type=\"text/javascript\">\\r\\n\\t    function SubmitForm() {\\r\\n\\t        document.getElementById(\"txtpanNo\").value = ecncrpt(document.getElementById(\"txtpanNo\").value);\\r\\n\\t        return true;\\r\\n        }\\r\\n    </script>\\r\\n</head>\\r\\n<body>\\r\\n    <form method=\"post\" action=\"./UPanSearchGlobalWithPanExempt.aspx\" onsubmit=\"javascript:return WebForm_OnSubmit();\" id=\"form1\">\\r\\n<div class=\"aspNetHidden\">\\r\\n<input type=\"hidden\" name=\"__EVENTTARGET\" id=\"__EVENTTARGET\" value=\"\" />\\r\\n<input type=\"hidden\" name=\"__EVENTARGUMENT\" id=\"__EVENTARGUMENT\" value=\"\" />\\r\\n<input type=\"hidden\" name=\"__VIEWSTATE\" id=\"__VIEWSTATE\" value=\"/wEPDwUKMjA1OTkxMDczNQ9kFgICBA8WAh4Ib25zdWJtaXQFFHJldHVybiBTdWJtaXRGb3JtKCk7FgICEw9kFgYCAQ9kFgJmD2QWAgIBDzwrABECARAWABYAFgAMFCsAAGQCAw9kFgJmD2QWAgIBDzwrABEBDBQrAABkAgQPZBYCZg9kFgICAQ88KwARAQwUKwAAZBgEBQhndlJlamVjdA9nZAUJR3JpZFZpZXcyD2dkBQlHcmlkVmlldzEPZ2QFBmNjSm9pbg8FJGJjODAzYzRjLTc0OWMtNDM2Yy1iNzFhLTM5NjU2ZWM0OTFmMWSOY6htdXFdJvNPenj8tuUMirhPs9YbwChBdR94LOsX0g==\" />\\r\\n</div>\\r\\n\\r\\n<script type=\"text/javascript\">\\r\\n//<![CDATA[\\r\\nvar theForm = document.forms[\\'form1\\'];\\r\\nif (!theForm) {\\r\\n    theForm = document.form1;\\r\\n}\\r\\nfunction __doPostBack(eventTarget, eventArgument) {\\r\\n    if (!theForm.onsubmit || (theForm.onsubmit() != false)) {\\r\\n        theForm.__EVENTTARGET.value = eventTarget;\\r\\n        theForm.__EVENTARGUMENT.value = eventArgument;\\r\\n        theForm.submit();\\r\\n    }\\r\\n}\\r\\n//]]>\\r\\n</script>\\r\\n\\r\\n\\r\\n<script src=\"/WebResource.axd?d=_suZ-d311RuEYUlQOMHvaXyC57u_u6ftFimd87neO2ihBcyhIuamzgL6zxP_i2csZU6haqfRu6Si6Re7I0f00SrNzTyALhtS3itQewCayTU1&amp;t=636765175280000000\" type=\"text/javascript\"></script>\\r\\n\\r\\n\\r\\n<script src=\"/ScriptResource.axd?d=AVL4LrxbR8hVpG-uwVRBaGkWTphRDBsVCmvPCiK6Gws0eMNw65TYzjqpq1PqWICaTcmPpoXIxYBFfI0IQvu3ezZLQHcTT2O-hiSYFtifn-31upfbAeF6htH-JFgoAx_cvpFGxQIcRMia3fjBIly6ATevuVc3tblmgbcnNWqlR3E1&amp;t=29665526\" type=\"text/javascript\"></script>\\r\\n<script src=\"/ScriptResource.axd?d=8XjZEr4FelpL0oAp2pkMD5IjbAZyMeEsAzGCG9ZI8qZl8FBpFKOnBcObj7LJv88K42yKToK_m__jV3_RbRMwFJls1B-VXgRczB1yTDYBeB5rT2t6q_hUYEhB6Qseuxxg9pE7a7ePeDefFaXwPIm9trckx4JvnZi6zHjmA2q7L8I1&amp;t=ffffffff999c3159\" type=\"text/javascript\"></script>\\r\\n<script src=\"/ScriptResource.axd?d=hs-ww4Ml52C7ANhgyUU_Tyj5XFRAWHUhuUOXv353nMVWS7tWZfGMGnh9wXN0MmhBdYLvWHv4pv5qBv9TrbPZ8H0pg89A-XKKH-ND2UNPmQHjNxdZkPHu2pj9j5fN3RMyr9fAMKQgGjgWhOiRV0uVwVGokfkQF7__f5kcf3ueRugVEd3kdXkidmv-MzZLUYwz0&amp;t=ffffffff999c3159\" type=\"text/javascript\"></script>\\r\\n<script type=\"text/javascript\">\\r\\n//<![CDATA[\\r\\nfunction WebForm_OnSubmit() {\\r\\nif (typeof(ValidatorOnSubmit) == \"function\" && ValidatorOnSubmit() == false) return false;return SubmitForm();\\r\\nreturn true;\\r\\n}\\r\\n//]]>\\r\\n</script>\\r\\n\\r\\n<div class=\"aspNetHidden\">\\r\\n\\r\\n\\t<input type=\"hidden\" name=\"__VIEWSTATEGENERATOR\" id=\"__VIEWSTATEGENERATOR\" value=\"68FE7E90\" />\\r\\n\\t<input type=\"hidden\" name=\"__EVENTVALIDATION\" id=\"__EVENTVALIDATION\" value=\"/wEdAATpOUC6NNRNHX4si+FrH9Wka80g7XYN6e5YUp/r7s/N5H7U3g4so7IZ4rvahWkJwG2O1N1XNFmfsMXJasjxX85jLhaO0i23D9/86FdRXUcu3XRqtXD6k2CZGo8MEhcwB4k=\" />\\r\\n</div>\\r\\n      <script type=\"text/javascript\">\\r\\n//<![CDATA[\\r\\nSys.WebForms.PageRequestManager._initialize(\\'ScriptManager1\\', \\'form1\\', [], [], [], 90, \\'\\');\\r\\n//]]>\\r\\n</script>\\r\\n\\r\\n    <div>\\r\\n        <div>\\r\\n            <table width=\"980\" border=\"0\" align=\"center\" cellpadding=\"0\" cellspacing=\"0\">\\r\\n                <tr>\\r\\n                    <td width=\"980\" valign=\"top\" bgcolor=\"#FBFBFB\">\\r\\n                        <table width=\"100%\" border=\"0\" cellpadding=\"6\" cellspacing=\"0\" bgcolor=\"#0EB1E8\">\\r\\n                            <tr>\\r\\n                                <td width=\"21\" align=\"center\" valign=\"middle\" class=\"white1\">\\r\\n                                    <img src=\"images/arrow.jpg\" alt=\"\" width=\"21\" height=\"20\" />\\r\\n                                </td>\\r\\n                                <td class=\"white1\">\\r\\n                                    <strong>PAN SEARCH</strong>\\r\\n                                </td>\\r\\n                            </tr>\\r\\n                        </table>\\r\\n                    </td>\\r\\n                </tr>\\r\\n            </table>\\r\\n            <table width=\"980\" border=\"0\" align=\"center\" cellpadding=\"6\" cellspacing=\"0\" bgcolor=\"#FBFBFB\">\\r\\n                <tr>\\r\\n                    <td valign=\"top\">\\r\\n                        <table width=\"100%\" border=\"0\" cellspacing=\"0\" cellpadding=\"0\" style=\"margin-left: 100px;\">\\r\\n                            <tr>\\r\\n                                <td valign=\"top\" align=\"left\">\\r\\n                                    <form method=\"post\" action=\"#\">\\r\\n                                    <span style=\"color: Red;\">*</span> <span class=\"running\" style=\"font-size: small; font-family:Trebuchet MS\">Please enter Captcha \\r\\nCode in\\r\\n                                        the bottom before submitting the Query<br />\\r\\n                                    </span>\\r\\n                                    <br />\\r\\n                                    <table width=\"60%\">\\r\\n                                        <tr>\\r\\n                                            <td>\\r\\n                                                <span class=\"running\" style=\"font-size: small; font-family:Trebuchet MS\">PAN No. </span>\\r\\n                                            </td>\\r\\n                                            <td>\\r\\n                                                <input name=\"txtpanNo\" type=\"text\" maxlength=\"10\" id=\"txtpanNo\" class=\"inputField\" />\\r\\n                                                <span id=\"RequiredFieldValidator1\" style=\"visibility:hidden;\">*</span>\\r\\n                                            </td>\\r\\n                                        </tr>\\r\\n                                        <tr>\\r\\n                                            <td style=\"font-size: small; font-family:Trebuchet MS\">\\r\\n                                                Enter below characters:\\r\\n                                            </td>\\r\\n                                            <td>\\r\\n                                                <input name=\"txtItnrMdtCapcha\" type=\"text\" maxlength=\"5\" id=\"txtItnrMdtCapcha\" class=\"inputField\" />\\r\\n                                                <span id=\"RequiredFieldValidator5\" style=\"visibility:hidden;\">*</span>\\r\\n                                            </td>\\r\\n                                        </tr>\\r\\n                                        <tr>\\r\\n                                            <td>\\r\\n                                            </td>\\r\\n                                            <td>\\r\\n                                                <div style=\\'background-color:White;color:White;\\' ><img src=\"CaptchaImage.axd?guid=bc803c4c-749c-436c-b71a-39656ec491f1\" border=\"0\" alt=\"Captcha\" width=\"150\" height=\"35\" /></div>\\r\\n                                            </td>\\r\\n                                        </tr>\\r\\n                                        <tr>\\r\\n                                            <td style=\"text-align: center;\">\\r\\n                                                <input type=\"submit\" name=\"btnSearch\" value=\"Search Now\" onclick=\"javascript:WebForm_DoPostBackWithOptions(new WebForm_PostBackOptions(&quot;btnSearch&quot;, &quot;&quot;, true, &quot;btnSearch&quot;, &quot;&quot;, false, false))\" id=\"btnSearch\" />\\r\\n                                                &nbsp;\\r\\n                                            </td>\\r\\n                                            <td style=\"font-size: small; font-family:Trebuchet MS\">\\r\\n                                                <a href=\"index.aspx\" class=\"style4\">click here</a> to Go HOME\\r\\n                                            </td>\\r\\n                                        </tr>\\r\\n                                    </table>\\r\\n                                    <br />\\r\\n                                    \\r\\n                                                                      \\r\\n                                    \\r\\n                                    <table id=\"Table1\" width=\"60%\">\\r\\n\\t<tr>\\r\\n\\t\\t<td>\\r\\n\\r\\n\\r\\n\\r\\n\\r\\n\\r\\n\\t\\t\\r\\n\\r\\n\\r\\n\\r\\n\\r\\n\\r\\n                                                    \\r\\n\\r\\n\\r\\n                                                </td>\\r\\n\\t</tr>\\r\\n\\t<tr>\\r\\n\\t\\t<td colspan=\"2\" align=\"left\">\\r\\n                                                <div>\\r\\n\\r\\n\\t\\t</div>\\r\\n                                            </td>\\r\\n\\t</tr>\\r\\n\\t<tr>\\r\\n\\t\\t<td style=\"font-size: small; font-family:Trebuchet MS;font-weight:bold\"><br /></td>\\r\\n\\t</tr>\\r\\n\\t<tr>\\r\\n\\t\\t<td>\\r\\n                                                         <div>\\r\\n\\r\\n\\t\\t</div></td>\\r\\n\\t</tr>\\r\\n\\t<tr>\\r\\n\\t\\t<td colspan=\"2\" align=\"left\">\\r\\n                                                <div>\\r\\n\\r\\n\\t\\t</div>\\r\\n                                            </td>\\r\\n\\t</tr>\\r\\n\\t<tr>\\r\\n\\t\\t<td>\\r\\n                                                    <span id=\"lblUnderProcess\" style=\"font-size:Medium;\"></span>\\r\\n                                                </td>\\r\\n\\t</tr>\\r\\n\\t<tr>\\r\\n\\t\\t<td style=\"font-size: small; font-family:Trebuchet MS\">\\r\\n                                                    <br />\\r\\n\\t\\t\\t\\t\\t\\t\\t\\t\\t\\t\\t\\t\\t\\r\\n                                                </td>\\r\\n\\t</tr>\\r\\n</table>\\r\\n\\r\\n                                    </form>\\r\\n                                </td>\\r\\n                            </tr>\\r\\n                        </table>\\r\\n                    </td>\\r\\n                </tr>\\r\\n            </table>\\r\\n            <br />\\r\\n        </div>\\r\\n    </div>\\r\\n    \\r\\n<script type=\"text/javascript\">\\r\\n//<![CDATA[\\r\\nvar Page_Validators =  new Array(document.getElementById(\"RequiredFieldValidator1\"), document.getElementById(\"RequiredFieldValidator5\"));\\r\\n//]]>\\r\\n</script>\\r\\n\\r\\n<script type=\"text/javascript\">\\r\\n//<![CDATA[\\r\\nvar RequiredFieldValidator1 = document.all ? document.all[\"RequiredFieldValidator1\"] : document.getElementById(\"RequiredFieldValidator1\");\\r\\nRequiredFieldValidator1.controltovalidate = \"txtpanNo\";\\r\\nRequiredFieldValidator1.focusOnError = \"t\";\\r\\nRequiredFieldValidator1.errormessage = \"Enter Pan Number\";\\r\\nRequiredFieldValidator1.validationGroup = \"btnSearch\";\\r\\nRequiredFieldValidator1.evaluationfunction = \"RequiredFieldValidatorEvaluateIsValid\";\\r\\nRequiredFieldValidator1.initialvalue = \"\";\\r\\nvar RequiredFieldValidator5 = document.all ? document.all[\"RequiredFieldValidator5\"] : document.getElementById(\"RequiredFieldValidator5\");\\r\\nRequiredFieldValidator5.controltovalidate = \"txtItnrMdtCapcha\";\\r\\nRequiredFieldValidator5.focusOnError = \"t\";\\r\\nRequiredFieldValidator5.errormessage = \"Enter Captcha Text\";\\r\\nRequiredFieldValidator5.validationGroup = \"btnSearch\";\\r\\nRequiredFieldValidator5.evaluationfunction = \"RequiredFieldValidatorEvaluateIsValid\";\\r\\nRequiredFieldValidator5.initialvalue = \"\";\\r\\n//]]>\\r\\n</script>\\r\\n\\r\\n\\r\\n<script type=\"text/javascript\">\\r\\n//<![CDATA[\\r\\n\\r\\nvar Page_ValidationActive = false;\\r\\nif (typeof(ValidatorOnLoad) == \"function\") {\\r\\n    ValidatorOnLoad();\\r\\n}\\r\\n\\r\\nfunction ValidatorOnSubmit() {\\r\\n    if (Page_ValidationActive) {\\r\\n        return ValidatorCommonOnSubmit();\\r\\n    }\\r\\n    else {\\r\\n        return true;\\r\\n    }\\r\\n}\\r\\n        \\r\\ndocument.getElementById(\\'RequiredFieldValidator1\\').dispose = function() {\\r\\n    Array.remove(Page_Validators, document.getElementById(\\'RequiredFieldValidator1\\'));\\r\\n}\\r\\n\\r\\ndocument.getElementById(\\'RequiredFieldValidator5\\').dispose = function() {\\r\\n    Array.remove(Page_Validators, document.getElementById(\\'RequiredFieldValidator5\\'));\\r\\n}\\r\\n//]]>\\r\\n</script>\\r\\n</form>\\r\\n</body>\\r\\n</html>\\r\\n  <br />\\r\\n        </div>\\r\\n    </div>\\r\\n    </form>\\r\\n</body>\\r\\n</html>\\r\\n'"
      ]
     },
     "execution_count": 8,
     "metadata": {},
     "output_type": "execute_result"
    }
   ],
   "source": [
    "first_response"
   ]
  },
  {
   "cell_type": "code",
   "execution_count": 9,
   "id": "deeba305",
   "metadata": {},
   "outputs": [],
   "source": [
    "soup=BeautifulSoup(first_response,'lxml')"
   ]
  },
  {
   "cell_type": "code",
   "execution_count": 10,
   "id": "bdc80de4",
   "metadata": {},
   "outputs": [
    {
     "data": {
      "text/plain": [
       "<!DOCTYPE html PUBLIC \"-//W3C//DTD XHTML 1.0 Transitional//EN\" \"http://www.w3.org/TR/xhtml1/DTD/xhtml1-transitional.dtd\">\n",
       "<html xmlns=\"http://www.w3.org/1999/xhtml\">\n",
       "<head id=\"Head1\"><title>\n",
       "\tKnow Your Status\n",
       "</title>\n",
       "<script language=\"javascript\" src=\"/Scripts/MyHsCode02.js\" type=\"text/javascript\"></script>\n",
       "<style type=\"text/css\">\n",
       "        .style4\n",
       "        {\n",
       "            color: #74a501;\n",
       "            font-weight: bold;\n",
       "            font-size: 11pt;\n",
       "        }\n",
       "        .style5\n",
       "        {\n",
       "            height: 24px;\n",
       "        }\n",
       "    </style>\n",
       "<script language=\"javascript\" type=\"text/javascript\">\n",
       "\t    function SubmitForm() {\n",
       "\t        document.getElementById(\"txtpanNo\").value = ecncrpt(document.getElementById(\"txtpanNo\").value);\n",
       "\t        return true;\n",
       "        }\n",
       "    </script>\n",
       "</head>\n",
       "<body>\n",
       "<form action=\"./UPanSearchGlobalWithPanExempt.aspx\" id=\"form1\" method=\"post\" onsubmit=\"javascript:return WebForm_OnSubmit();\">\n",
       "<div class=\"aspNetHidden\">\n",
       "<input id=\"__EVENTTARGET\" name=\"__EVENTTARGET\" type=\"hidden\" value=\"\"/>\n",
       "<input id=\"__EVENTARGUMENT\" name=\"__EVENTARGUMENT\" type=\"hidden\" value=\"\"/>\n",
       "<input id=\"__VIEWSTATE\" name=\"__VIEWSTATE\" type=\"hidden\" value=\"/wEPDwUKMjA1OTkxMDczNQ9kFgICBA8WAh4Ib25zdWJtaXQFFHJldHVybiBTdWJtaXRGb3JtKCk7FgICEw9kFgYCAQ9kFgJmD2QWAgIBDzwrABECARAWABYAFgAMFCsAAGQCAw9kFgJmD2QWAgIBDzwrABEBDBQrAABkAgQPZBYCZg9kFgICAQ88KwARAQwUKwAAZBgEBQhndlJlamVjdA9nZAUJR3JpZFZpZXcyD2dkBQlHcmlkVmlldzEPZ2QFBmNjSm9pbg8FJGJjODAzYzRjLTc0OWMtNDM2Yy1iNzFhLTM5NjU2ZWM0OTFmMWSOY6htdXFdJvNPenj8tuUMirhPs9YbwChBdR94LOsX0g==\"/>\n",
       "</div>\n",
       "<script type=\"text/javascript\">\n",
       "//<![CDATA[\n",
       "var theForm = document.forms['form1'];\n",
       "if (!theForm) {\n",
       "    theForm = document.form1;\n",
       "}\n",
       "function __doPostBack(eventTarget, eventArgument) {\n",
       "    if (!theForm.onsubmit || (theForm.onsubmit() != false)) {\n",
       "        theForm.__EVENTTARGET.value = eventTarget;\n",
       "        theForm.__EVENTARGUMENT.value = eventArgument;\n",
       "        theForm.submit();\n",
       "    }\n",
       "}\n",
       "//]]>\n",
       "</script>\n",
       "<script src=\"/WebResource.axd?d=_suZ-d311RuEYUlQOMHvaXyC57u_u6ftFimd87neO2ihBcyhIuamzgL6zxP_i2csZU6haqfRu6Si6Re7I0f00SrNzTyALhtS3itQewCayTU1&amp;t=636765175280000000\" type=\"text/javascript\"></script>\n",
       "<script src=\"/ScriptResource.axd?d=AVL4LrxbR8hVpG-uwVRBaGkWTphRDBsVCmvPCiK6Gws0eMNw65TYzjqpq1PqWICaTcmPpoXIxYBFfI0IQvu3ezZLQHcTT2O-hiSYFtifn-31upfbAeF6htH-JFgoAx_cvpFGxQIcRMia3fjBIly6ATevuVc3tblmgbcnNWqlR3E1&amp;t=29665526\" type=\"text/javascript\"></script>\n",
       "<script src=\"/ScriptResource.axd?d=8XjZEr4FelpL0oAp2pkMD5IjbAZyMeEsAzGCG9ZI8qZl8FBpFKOnBcObj7LJv88K42yKToK_m__jV3_RbRMwFJls1B-VXgRczB1yTDYBeB5rT2t6q_hUYEhB6Qseuxxg9pE7a7ePeDefFaXwPIm9trckx4JvnZi6zHjmA2q7L8I1&amp;t=ffffffff999c3159\" type=\"text/javascript\"></script>\n",
       "<script src=\"/ScriptResource.axd?d=hs-ww4Ml52C7ANhgyUU_Tyj5XFRAWHUhuUOXv353nMVWS7tWZfGMGnh9wXN0MmhBdYLvWHv4pv5qBv9TrbPZ8H0pg89A-XKKH-ND2UNPmQHjNxdZkPHu2pj9j5fN3RMyr9fAMKQgGjgWhOiRV0uVwVGokfkQF7__f5kcf3ueRugVEd3kdXkidmv-MzZLUYwz0&amp;t=ffffffff999c3159\" type=\"text/javascript\"></script>\n",
       "<script type=\"text/javascript\">\n",
       "//<![CDATA[\n",
       "function WebForm_OnSubmit() {\n",
       "if (typeof(ValidatorOnSubmit) == \"function\" && ValidatorOnSubmit() == false) return false;return SubmitForm();\n",
       "return true;\n",
       "}\n",
       "//]]>\n",
       "</script>\n",
       "<div class=\"aspNetHidden\">\n",
       "<input id=\"__VIEWSTATEGENERATOR\" name=\"__VIEWSTATEGENERATOR\" type=\"hidden\" value=\"68FE7E90\"/>\n",
       "<input id=\"__EVENTVALIDATION\" name=\"__EVENTVALIDATION\" type=\"hidden\" value=\"/wEdAATpOUC6NNRNHX4si+FrH9Wka80g7XYN6e5YUp/r7s/N5H7U3g4so7IZ4rvahWkJwG2O1N1XNFmfsMXJasjxX85jLhaO0i23D9/86FdRXUcu3XRqtXD6k2CZGo8MEhcwB4k=\"/>\n",
       "</div>\n",
       "<script type=\"text/javascript\">\n",
       "//<![CDATA[\n",
       "Sys.WebForms.PageRequestManager._initialize('ScriptManager1', 'form1', [], [], [], 90, '');\n",
       "//]]>\n",
       "</script>\n",
       "<div>\n",
       "<div>\n",
       "<table align=\"center\" border=\"0\" cellpadding=\"0\" cellspacing=\"0\" width=\"980\">\n",
       "<tr>\n",
       "<td bgcolor=\"#FBFBFB\" valign=\"top\" width=\"980\">\n",
       "<table bgcolor=\"#0EB1E8\" border=\"0\" cellpadding=\"6\" cellspacing=\"0\" width=\"100%\">\n",
       "<tr>\n",
       "<td align=\"center\" class=\"white1\" valign=\"middle\" width=\"21\">\n",
       "<img alt=\"\" height=\"20\" src=\"images/arrow.jpg\" width=\"21\"/>\n",
       "</td>\n",
       "<td class=\"white1\">\n",
       "<strong>PAN SEARCH</strong>\n",
       "</td>\n",
       "</tr>\n",
       "</table>\n",
       "</td>\n",
       "</tr>\n",
       "</table>\n",
       "<table align=\"center\" bgcolor=\"#FBFBFB\" border=\"0\" cellpadding=\"6\" cellspacing=\"0\" width=\"980\">\n",
       "<tr>\n",
       "<td valign=\"top\">\n",
       "<table border=\"0\" cellpadding=\"0\" cellspacing=\"0\" style=\"margin-left: 100px;\" width=\"100%\">\n",
       "<tr>\n",
       "<td align=\"left\" valign=\"top\">\n",
       "<form action=\"#\" method=\"post\">\n",
       "<span style=\"color: Red;\">*</span> <span class=\"running\" style=\"font-size: small; font-family:Trebuchet MS\">Please enter Captcha \n",
       "Code in\n",
       "                                        the bottom before submitting the Query<br/>\n",
       "</span>\n",
       "<br/>\n",
       "<table width=\"60%\">\n",
       "<tr>\n",
       "<td>\n",
       "<span class=\"running\" style=\"font-size: small; font-family:Trebuchet MS\">PAN No. </span>\n",
       "</td>\n",
       "<td>\n",
       "<input class=\"inputField\" id=\"txtpanNo\" maxlength=\"10\" name=\"txtpanNo\" type=\"text\"/>\n",
       "<span id=\"RequiredFieldValidator1\" style=\"visibility:hidden;\">*</span>\n",
       "</td>\n",
       "</tr>\n",
       "<tr>\n",
       "<td style=\"font-size: small; font-family:Trebuchet MS\">\n",
       "                                                Enter below characters:\n",
       "                                            </td>\n",
       "<td>\n",
       "<input class=\"inputField\" id=\"txtItnrMdtCapcha\" maxlength=\"5\" name=\"txtItnrMdtCapcha\" type=\"text\"/>\n",
       "<span id=\"RequiredFieldValidator5\" style=\"visibility:hidden;\">*</span>\n",
       "</td>\n",
       "</tr>\n",
       "<tr>\n",
       "<td>\n",
       "</td>\n",
       "<td>\n",
       "<div style=\"background-color:White;color:White;\"><img alt=\"Captcha\" border=\"0\" height=\"35\" src=\"CaptchaImage.axd?guid=bc803c4c-749c-436c-b71a-39656ec491f1\" width=\"150\"/></div>\n",
       "</td>\n",
       "</tr>\n",
       "<tr>\n",
       "<td style=\"text-align: center;\">\n",
       "<input id=\"btnSearch\" name=\"btnSearch\" onclick='javascript:WebForm_DoPostBackWithOptions(new WebForm_PostBackOptions(\"btnSearch\", \"\", true, \"btnSearch\", \"\", false, false))' type=\"submit\" value=\"Search Now\"/>\n",
       "                                                 \n",
       "                                            </td>\n",
       "<td style=\"font-size: small; font-family:Trebuchet MS\">\n",
       "<a class=\"style4\" href=\"index.aspx\">click here</a> to Go HOME\n",
       "                                            </td>\n",
       "</tr>\n",
       "</table>\n",
       "<br/>\n",
       "<table id=\"Table1\" width=\"60%\">\n",
       "<tr>\n",
       "<td>\n",
       "</td>\n",
       "</tr>\n",
       "<tr>\n",
       "<td align=\"left\" colspan=\"2\">\n",
       "<div>\n",
       "</div>\n",
       "</td>\n",
       "</tr>\n",
       "<tr>\n",
       "<td style=\"font-size: small; font-family:Trebuchet MS;font-weight:bold\"><br/></td>\n",
       "</tr>\n",
       "<tr>\n",
       "<td>\n",
       "<div>\n",
       "</div></td>\n",
       "</tr>\n",
       "<tr>\n",
       "<td align=\"left\" colspan=\"2\">\n",
       "<div>\n",
       "</div>\n",
       "</td>\n",
       "</tr>\n",
       "<tr>\n",
       "<td>\n",
       "<span id=\"lblUnderProcess\" style=\"font-size:Medium;\"></span>\n",
       "</td>\n",
       "</tr>\n",
       "<tr>\n",
       "<td style=\"font-size: small; font-family:Trebuchet MS\">\n",
       "<br/>\n",
       "</td>\n",
       "</tr>\n",
       "</table>\n",
       "</form>\n",
       "</td>\n",
       "</tr>\n",
       "</table>\n",
       "</td>\n",
       "</tr>\n",
       "</table>\n",
       "<br/>\n",
       "</div>\n",
       "</div>\n",
       "<script type=\"text/javascript\">\n",
       "//<![CDATA[\n",
       "var Page_Validators =  new Array(document.getElementById(\"RequiredFieldValidator1\"), document.getElementById(\"RequiredFieldValidator5\"));\n",
       "//]]>\n",
       "</script>\n",
       "<script type=\"text/javascript\">\n",
       "//<![CDATA[\n",
       "var RequiredFieldValidator1 = document.all ? document.all[\"RequiredFieldValidator1\"] : document.getElementById(\"RequiredFieldValidator1\");\n",
       "RequiredFieldValidator1.controltovalidate = \"txtpanNo\";\n",
       "RequiredFieldValidator1.focusOnError = \"t\";\n",
       "RequiredFieldValidator1.errormessage = \"Enter Pan Number\";\n",
       "RequiredFieldValidator1.validationGroup = \"btnSearch\";\n",
       "RequiredFieldValidator1.evaluationfunction = \"RequiredFieldValidatorEvaluateIsValid\";\n",
       "RequiredFieldValidator1.initialvalue = \"\";\n",
       "var RequiredFieldValidator5 = document.all ? document.all[\"RequiredFieldValidator5\"] : document.getElementById(\"RequiredFieldValidator5\");\n",
       "RequiredFieldValidator5.controltovalidate = \"txtItnrMdtCapcha\";\n",
       "RequiredFieldValidator5.focusOnError = \"t\";\n",
       "RequiredFieldValidator5.errormessage = \"Enter Captcha Text\";\n",
       "RequiredFieldValidator5.validationGroup = \"btnSearch\";\n",
       "RequiredFieldValidator5.evaluationfunction = \"RequiredFieldValidatorEvaluateIsValid\";\n",
       "RequiredFieldValidator5.initialvalue = \"\";\n",
       "//]]>\n",
       "</script>\n",
       "<script type=\"text/javascript\">\n",
       "//<![CDATA[\n",
       "\n",
       "var Page_ValidationActive = false;\n",
       "if (typeof(ValidatorOnLoad) == \"function\") {\n",
       "    ValidatorOnLoad();\n",
       "}\n",
       "\n",
       "function ValidatorOnSubmit() {\n",
       "    if (Page_ValidationActive) {\n",
       "        return ValidatorCommonOnSubmit();\n",
       "    }\n",
       "    else {\n",
       "        return true;\n",
       "    }\n",
       "}\n",
       "        \n",
       "document.getElementById('RequiredFieldValidator1').dispose = function() {\n",
       "    Array.remove(Page_Validators, document.getElementById('RequiredFieldValidator1'));\n",
       "}\n",
       "\n",
       "document.getElementById('RequiredFieldValidator5').dispose = function() {\n",
       "    Array.remove(Page_Validators, document.getElementById('RequiredFieldValidator5'));\n",
       "}\n",
       "//]]>\n",
       "</script>\n",
       "</form>\n",
       "</body>\n",
       "</html>"
      ]
     },
     "execution_count": 10,
     "metadata": {},
     "output_type": "execute_result"
    }
   ],
   "source": [
    "soup"
   ]
  },
  {
   "cell_type": "code",
   "execution_count": 11,
   "id": "02592771",
   "metadata": {},
   "outputs": [],
   "source": [
    "__VIEWSTATE = soup.find('input',attrs={'id':'__VIEWSTATE'})[\"value\"]\n",
    "__VIEWSTATEGENERATOR = soup.find('input',attrs={'id':'__VIEWSTATEGENERATOR'})['value']\n",
    "__EVENTVALIDATION = soup.find('input',attrs= {'id':'__EVENTVALIDATION'})['value']"
   ]
  },
  {
   "cell_type": "code",
   "execution_count": 12,
   "id": "01213cb6",
   "metadata": {},
   "outputs": [
    {
     "name": "stdout",
     "output_type": "stream",
     "text": [
      "/wEPDwUKMjA1OTkxMDczNQ9kFgICBA8WAh4Ib25zdWJtaXQFFHJldHVybiBTdWJtaXRGb3JtKCk7FgICEw9kFgYCAQ9kFgJmD2QWAgIBDzwrABECARAWABYAFgAMFCsAAGQCAw9kFgJmD2QWAgIBDzwrABEBDBQrAABkAgQPZBYCZg9kFgICAQ88KwARAQwUKwAAZBgEBQhndlJlamVjdA9nZAUJR3JpZFZpZXcyD2dkBQlHcmlkVmlldzEPZ2QFBmNjSm9pbg8FJGJjODAzYzRjLTc0OWMtNDM2Yy1iNzFhLTM5NjU2ZWM0OTFmMWSOY6htdXFdJvNPenj8tuUMirhPs9YbwChBdR94LOsX0g==\n"
     ]
    }
   ],
   "source": [
    "print(__VIEWSTATE)"
   ]
  },
  {
   "cell_type": "code",
   "execution_count": 13,
   "id": "dc0c1e3b",
   "metadata": {},
   "outputs": [
    {
     "name": "stdout",
     "output_type": "stream",
     "text": [
      "68FE7E90\n"
     ]
    }
   ],
   "source": [
    "print(__VIEWSTATEGENERATOR)"
   ]
  },
  {
   "cell_type": "code",
   "execution_count": 14,
   "id": "51e3522d",
   "metadata": {},
   "outputs": [
    {
     "data": {
      "text/plain": [
       "'/wEdAATpOUC6NNRNHX4si+FrH9Wka80g7XYN6e5YUp/r7s/N5H7U3g4so7IZ4rvahWkJwG2O1N1XNFmfsMXJasjxX85jLhaO0i23D9/86FdRXUcu3XRqtXD6k2CZGo8MEhcwB4k='"
      ]
     },
     "execution_count": 14,
     "metadata": {},
     "output_type": "execute_result"
    }
   ],
   "source": [
    "__EVENTVALIDATION"
   ]
  },
  {
   "cell_type": "code",
   "execution_count": 15,
   "id": "1dcfd03b",
   "metadata": {},
   "outputs": [
    {
     "data": {
      "text/plain": [
       "<div style=\"background-color:White;color:White;\"><img alt=\"Captcha\" border=\"0\" height=\"35\" src=\"CaptchaImage.axd?guid=bc803c4c-749c-436c-b71a-39656ec491f1\" width=\"150\"/></div>"
      ]
     },
     "execution_count": 15,
     "metadata": {},
     "output_type": "execute_result"
    }
   ],
   "source": [
    "d = soup.find('div',attrs={'style':'background-color:White;color:White;'})\n",
    "d"
   ]
  },
  {
   "cell_type": "code",
   "execution_count": 16,
   "id": "6c1963f1",
   "metadata": {},
   "outputs": [
    {
     "data": {
      "text/plain": [
       "'CaptchaImage.axd?guid=bc803c4c-749c-436c-b71a-39656ec491f1'"
      ]
     },
     "execution_count": 16,
     "metadata": {},
     "output_type": "execute_result"
    }
   ],
   "source": [
    "img_src = d.img['src']\n",
    "img_src"
   ]
  },
  {
   "cell_type": "code",
   "execution_count": 17,
   "id": "0aa30926",
   "metadata": {},
   "outputs": [],
   "source": [
    "img_link = \"https://www.karvykra.com/\"+img_src"
   ]
  },
  {
   "cell_type": "code",
   "execution_count": 18,
   "id": "4faa28cd",
   "metadata": {},
   "outputs": [
    {
     "data": {
      "text/plain": [
       "'https://www.karvykra.com/CaptchaImage.axd?guid=bc803c4c-749c-436c-b71a-39656ec491f1'"
      ]
     },
     "execution_count": 18,
     "metadata": {},
     "output_type": "execute_result"
    }
   ],
   "source": [
    "img_link"
   ]
  },
  {
   "cell_type": "code",
   "execution_count": 19,
   "id": "30b6b8d5",
   "metadata": {},
   "outputs": [],
   "source": [
    "img = requests.get(img_link)"
   ]
  },
  {
   "cell_type": "code",
   "execution_count": 20,
   "id": "d74f3b31",
   "metadata": {},
   "outputs": [
    {
     "name": "stdout",
     "output_type": "stream",
     "text": [
      "b'\\xff\\xd8\\xff\\xe0\\x00\\x10JFIF\\x00\\x01\\x01\\x01\\x00`\\x00`\\x00\\x00\\xff\\xdb\\x00C\\x00\\x08\\x06\\x06\\x07\\x06\\x05\\x08\\x07\\x07\\x07\\t\\t\\x08\\n\\x0c\\x14\\r\\x0c\\x0b\\x0b\\x0c\\x19\\x12\\x13\\x0f\\x14\\x1d\\x1a\\x1f\\x1e\\x1d\\x1a\\x1c\\x1c $.\\' \",#\\x1c\\x1c(7),01444\\x1f\\'9=82<.342\\xff\\xdb\\x00C\\x01\\t\\t\\t\\x0c\\x0b\\x0c\\x18\\r\\r\\x182!\\x1c!22222222222222222222222222222222222222222222222222\\xff\\xc0\\x00\\x11\\x08\\x00#\\x00\\x96\\x03\\x01\"\\x00\\x02\\x11\\x01\\x03\\x11\\x01\\xff\\xc4\\x00\\x1f\\x00\\x00\\x01\\x05\\x01\\x01\\x01\\x01\\x01\\x01\\x00\\x00\\x00\\x00\\x00\\x00\\x00\\x00\\x01\\x02\\x03\\x04\\x05\\x06\\x07\\x08\\t\\n\\x0b\\xff\\xc4\\x00\\xb5\\x10\\x00\\x02\\x01\\x03\\x03\\x02\\x04\\x03\\x05\\x05\\x04\\x04\\x00\\x00\\x01}\\x01\\x02\\x03\\x00\\x04\\x11\\x05\\x12!1A\\x06\\x13Qa\\x07\"q\\x142\\x81\\x91\\xa1\\x08#B\\xb1\\xc1\\x15R\\xd1\\xf0$3br\\x82\\t\\n\\x16\\x17\\x18\\x19\\x1a%&\\'()*456789:CDEFGHIJSTUVWXYZcdefghijstuvwxyz\\x83\\x84\\x85\\x86\\x87\\x88\\x89\\x8a\\x92\\x93\\x94\\x95\\x96\\x97\\x98\\x99\\x9a\\xa2\\xa3\\xa4\\xa5\\xa6\\xa7\\xa8\\xa9\\xaa\\xb2\\xb3\\xb4\\xb5\\xb6\\xb7\\xb8\\xb9\\xba\\xc2\\xc3\\xc4\\xc5\\xc6\\xc7\\xc8\\xc9\\xca\\xd2\\xd3\\xd4\\xd5\\xd6\\xd7\\xd8\\xd9\\xda\\xe1\\xe2\\xe3\\xe4\\xe5\\xe6\\xe7\\xe8\\xe9\\xea\\xf1\\xf2\\xf3\\xf4\\xf5\\xf6\\xf7\\xf8\\xf9\\xfa\\xff\\xc4\\x00\\x1f\\x01\\x00\\x03\\x01\\x01\\x01\\x01\\x01\\x01\\x01\\x01\\x01\\x00\\x00\\x00\\x00\\x00\\x00\\x01\\x02\\x03\\x04\\x05\\x06\\x07\\x08\\t\\n\\x0b\\xff\\xc4\\x00\\xb5\\x11\\x00\\x02\\x01\\x02\\x04\\x04\\x03\\x04\\x07\\x05\\x04\\x04\\x00\\x01\\x02w\\x00\\x01\\x02\\x03\\x11\\x04\\x05!1\\x06\\x12AQ\\x07aq\\x13\"2\\x81\\x08\\x14B\\x91\\xa1\\xb1\\xc1\\t#3R\\xf0\\x15br\\xd1\\n\\x16$4\\xe1%\\xf1\\x17\\x18\\x19\\x1a&\\'()*56789:CDEFGHIJSTUVWXYZcdefghijstuvwxyz\\x82\\x83\\x84\\x85\\x86\\x87\\x88\\x89\\x8a\\x92\\x93\\x94\\x95\\x96\\x97\\x98\\x99\\x9a\\xa2\\xa3\\xa4\\xa5\\xa6\\xa7\\xa8\\xa9\\xaa\\xb2\\xb3\\xb4\\xb5\\xb6\\xb7\\xb8\\xb9\\xba\\xc2\\xc3\\xc4\\xc5\\xc6\\xc7\\xc8\\xc9\\xca\\xd2\\xd3\\xd4\\xd5\\xd6\\xd7\\xd8\\xd9\\xda\\xe2\\xe3\\xe4\\xe5\\xe6\\xe7\\xe8\\xe9\\xea\\xf2\\xf3\\xf4\\xf5\\xf6\\xf7\\xf8\\xf9\\xfa\\xff\\xda\\x00\\x0c\\x03\\x01\\x00\\x02\\x11\\x03\\x11\\x00?\\x00\\xf6_\\x10j\\xe7E\\x97M\\xb8\\x92\\x1b\\xe9-\\xa4\\xb9\\x10K\\xf6X\\x84\\x8a\\x9b\\xc6\\x15\\x9c}\\xe0\\xbb\\xb1\\xca\\xfa\\xf3O\\x9f^\\x8a-n-5\"\\x95\\xdb\\x08\\xd2\\xbf\\x94\\xfbT>Ba\\xb6\\xed9#\\x9ex\\xab\\x11i\\xd6\\xb6\\x93^\\xc8\\xf2\\xcd \\xbf\\x90\\x17I\\xe6g@v\\x85\\xda\\x80\\xf0\\xa0\\x81\\xd0W\\x8f||\\xf1\\x0e\\xad\\xe1\\x85\\xf0\\xdd\\xb6\\x85\\xa8\\xddi\\xc8\\xc98u\\xb6\\x94\\xa0`\\xbePPq\\xe9\\xcf\\xe7@\\x1e\\xbc\\xf2jp\\xde\\xdd\\xce\\xe2\\x07\\xb1\\x11*\\xc1n\\x06\\xd9ZL\\x9c\\x92\\xe5\\xb6\\xe0\\xe5@\\x18\\x15n\\x1b\\xa4\\x9ai!\\n\\xeb$AK\\x86S\\x81\\xb8q\\x83\\xd0\\xf4\\xed^\\x10\\xde\\x02\\xd7\\xf5\\xdf\\x0e\\xbd\\xce\\xab\\xf1I\\xc4\\nD\\xa2+\\x9c\\x94R\\xb8`X\\x99>R\\x0f\\xb1\\xe9]G\\xc1/\\x12k\\xde*\\xd3u\\x0b\\xadvg\\xb96\\x8e-\\xed\\xee\\xbe\\xea\\xcc\\x0f,\\x08\\x18\\x04\\x8c/\\xcd\\x8c\\xe1\\xa8\\x03\\xd2\\xf5;9/\\xf4\\xf9\\xad\\xe1\\xba\\x92\\xd2fS\\xe5\\xdcF\\x01h\\x9b\\xb3\\x00x8\\xf45WP\\xd4\\x97C\\x8e\\xdeK\\xbf:[w`\\x93\\xdd;F\\x91\\xdb\\xa8RL\\x92\\x12F\\x01#\\xb7s^\\'\\xf1\\xc7\\xc5:\\xf6\\x90t{;\\x0b\\xfd^\\xc0\\xa4\\xb7!\\xaeR\\x7f$].\"*G\\x96\\xdc\\x81\\xb8\\xaf t\\xfa\\xd6J[\\xe8z\\xa7\\x87\\xac\\xa3\\xf1\\x07\\xc5ma\\x8d\\xf5\\x9aO=\\xab^\\xf9\\xf1\\xab\\xe03F\\xcb\\xbc\\xe0\\x83\\x8f\\xbc\\x07\\xb7 \\xe0\\x03\\xe8\\xad?X\\xd35h\\xcc\\x9an\\xa3ix\\x83\\xab[N\\xb2\\x0f\\xcdI\\xa9/#\\x8a\\xe6\\xde[i\\x9aD\\x8d\\x93,\\xe8\\xc50\\x01\\xfe\\xf0\\xe9_1\\xf8mn\\xee>#\\xbd\\xb5\\x8c\\xf3x\\xb3B\\xb5D\\x8e[\\xd9,ZS\\x0c@\\x03\\x94\\x1fyXr\\xa3i\\xcb\\x00q\\x9a\\xf7\\x08\\xf4\\x1d\\x17\\xc4:e\\xcd\\xb6\\x91\\xe2\\x0b\\xd3k\"\\x98\\xe7\\xb67?i@\\x0fTx\\xe7\\x0cS\\xe9\\xf2\\x91\\xed@\\x1d\\x85\\xc5\\xc46\\xb6\\xf2\\\\O\"\\xc7\\x0cjY\\xdd\\x8f\\x00z\\xd4W\\xba\\x85\\xbe\\x9f\\xa6M\\xa8L]\\xad\\xe1\\x8c\\xca\\xc6$21P3\\xc2\\xa8$\\xfe\\x15\\xe2w\\x1a\\xff\\x00\\x8d<wm\\xae\\xf8s@:G\\xf6&\\x9eZ\\xda\\xe3R\\x96\\x0f(H\\x83#j\\xa9g^@<\\xe0\\x0c`\\xfc\\xb5\\xcfh\\xde!\\xd2\\xf5\\x0bQos\\xaa\\xfcI\\xbd\\xb8\\xb7@\\xb7\\x10\\xe9WI%\\xbc`p\\x08)\\x8c\\xaf\\x1c\\x1e(\\x03\\xe8\\x98%\\xb3\\xd3\\xb4\\xe8X\\xcc\\xc9\\x03\\x11\\xb1\\xa7c\\xb8\\x979\\x00\\xe7\\x9e\\xa7\\xa1\\xa5\\xbd\\xb1\\x17\\xd6RC\\xe7\\x1c\\x96\\x0e\\x8e\\xd9!\\x18\\x1c\\x8e\\x01\\x19\\x00\\x8e\\x99\\xaf\\x00\\xbe\\xf1N\\x89\\xa5\\xac\\r\\xa0|O\\xf1\\x04L\\xdc\\x885\\x1bSx!a\\xc6\\x188\\x05\\x7f\\x00k_]\\xf1\\x9f\\x89\\x9bN\\xbb\\xf0\\x1e\\xb6!\\xd1\\xf5\\xeb\\x98\\xbf\\xd15\\x18J\\xc7mu\\x19\\xceCn\\x1f\\xbb\\xdc7\\x0c\\x8c|\\xdc|\\xb4\\x01\\xea\\x17\\x9f\\x10<#\\xa6H\\xb0^x\\x97LY\\xb8R\\x16ub\\x0f\\xb8\\x04\\xed\\xfcj\\xed\\x97\\x8at]N\\xf6\\x0b];P\\x8a\\xf5\\xe6\\x8d\\xa4W\\xb5>l`.3\\xb9\\xd7*\\xa7\\x91\\xc19\\xaf\\x93\\xbc1\\xac\\xe8\\xde\\x1f\\xb4\\xd4m5=&\\xc6\\xfe\\xe9]\\x87\\x99%\\x82\\xde\\xa1Q\\x81\\xf2\\xc8\\'M\\xa3=\\x19wu\\xef]\\xd7\\xc0\\xbd\\x17Z{\\xfdG[\\xd1\\xf5=&\\xd6\\x19\\x90\\xc6\\xd6\\x121\\x99\\xb1\\xbb \\xb2+\\x06P9\\x00\\x93\\x9eO\\xad\\x00}\\x17\\x14F<\\xe6Y$\\xcf\\xf7\\xf1\\xc7\\xe4+\\x07Z\\xd5|?\\xe1MDk\\x1a\\xce\\xaa\\xd6mz\\x8bl\\x82i\\\\\\xc4vnn\\x17\\x90\\x0f\\'\\'\\xe9J-\\xbc`\\xc4\\xff\\x00\\xc4\\xdbC\\x8cv\\xff\\x00\\x89d\\xb2\\x7f\\xedu\\xaf \\xfd\\xa0c\\xd6\\xa1\\xf0\\xfe\\x8e\\xba\\xa6\\xa5et\\xaft\\xc5\\x12\\xd6\\xc9\\xa0\\xc1\\t\\xd4\\xee\\x95\\xf3\\xd7\\xda\\x80=>\\xcf\\xc5v\\x13jA\\xb4\\xdf\\x12\\xe9z\\xb4\\x17w@\\xbco}\\x12\\x1b8\\xb6c\\x08\\xaa2\\xf9`8>\\xb5\\xd4\\xdc^Co\\x07\\x9c\\xed\\xfb\\xb22\\x1c}\\xdfnz\\x0c\\xd7\\xca\\xf0\\xdc\\xf8)\\xb4\\xcbH\\xf5\\xbd/P\\xb3\\x95a@e:B\\xaa9\\xc0\\xe7rJ\\xac\\xc0\\x9e\\xfc\\x13^\\xb9\\xe1\\xdb\\xf1\\xa2\\xe8\\x1a?\\x874\\x99\\xa2\\x16\\x17\\xe2)mo\\xe0GF\\x86\\x19\\x9d\\x89\\xdc\\x923\\xe1\\xc9\\xc8S\\x922\\xdd>\\\\\\x10\\x0e\\xe2\\t\\xfcEqf\\x97\\x12Y\\xda\\xd9\\xcf\\xbd\\xd4\\xda\\x99|\\xcf\\x93?+o\\x1d\\xf0:c\\xbfZ*\\xce\\x8f\\x1c\\xd6\\xbfj\\xb26\\xb1Aim Kf[\\x83+\\xca\\xa5C\\x16|\\x8c\\x86\\xdcORI\\xeb\\x9a(\\x02a-\\xcc\\xda\\x85\\xcd\\xbb\\xc4a\\xb7DC\\x1c\\xc1\\xbegc\\x9c\\x80=\\x06\\x07\\xe7^\\x03\\xfbKI\\x9d_\\xc3\\xf1\\xf1\\xf2\\xc13~l\\xbf\\xe1_E\\x14R\\xca\\xc5Ae\\xe8H\\xe4V\\x07\\x88<\\x13\\xe1\\xdf\\x14]Cu\\xaci\\x91]\\xcf\\x02\\x14\\x89\\xa4f\\xc2\\x82s\\xf7A\\x00\\xf3\\xeb@\\x1e/w\\xe1\\xcf\\x81\\xf6V~d\\xda\\xd4\\xad&\\xceR\\xda\\xe9\\xa5l\\xe3\\xa0\\xda\\x08\\xfe\\x95\\xbf\\xf0\\x06\\xfa\\xfa=*\\xee\\xcfP\\xba+g;n\\xd2!\\xb8`%x\\xd3>aQ\\xd4\\xa8\\xdc\\x9e\\xd9\\xce;\\xd7\\xa5Xx\\'\\xc2\\xfahSk\\xe1\\xed*9\\x14\\x0f\\xde-\\xa2n\\xcf\\xd7\\x19\\xfdkiR)%\\x12\\xf9C\\xcc\\x8f(\\xac\\xc9\\x82\\x07\\x19\\xc1\\xf48\\x1f\\x95\\x00|\\xef\\xfbI\\xb2\\xae\\xaf\\xe1\\xfbtP\\xaa\\x96\\xf2\\xb0\\x00`r\\xc3\\xfc*\\x1d7\\xc4\\xbf\\t!\\xd1\\xf4\\x98%\\xf0\\xe7\\xdb/\\x96\\x18\\xd2\\xf0\\x8bV\\xdc\\xce\\x13\\xe6e\\xe7\\x04\\xee\\xfaW\\xd1\\x17Z^\\x9f{*\\xcbwcm<\\x8a0\\xaf,*\\xe4\\x0e\\xbc\\x12*-N\\xd5\\x7f\\xb1\\xaf!\\xb7imK\\xc6F\\xfbH\\xc1\\x91}\\xd4c\\x93@\\x1f1xsH\\xd4\\xef\\xbcwi\\xac\\xf8GJ\\xd4t\\xad\\x16\\xda\\xe3{\\xdd\\xba8V\\x84JO gq\\xd8UJ\\x8c\\xe7\\x19=I\\xaf\\xa4um\\x07D\\xd6\\x0bA,p\\xc7|\\x11\\x92+\\x88\\x0f\\x97<9\\x1dU\\xd7\\x0c=q\\x9cVE\\x8d\\xce\\xafi\\xe1\\xeb}:\\xf3\\xc3w\\x86\\xda8\\x96\\x14\\x97M\\x99\\x15\\xc2\\xa7\\x00\\x94fVL\\x808R\\xfdz\\xd5Yu\\xfd\\x16-^\\xe3R\\x87M\\xd4l5\\x1f/l\\xd2\\xc9\\xa5\\xce\\x04\\xbbs\\x85\\x91\\x926\\x1bF\\xee\\xb9\\xceq\\xed@\\x1eC\\xe1M#]\\x93\\xc2>*\\xf0V\\x9d\\xad\\x1b\\x1db\\xca\\xe2V\\x97M1&o\\xd0\\xa6\\xd2\\x11\\x8e\\x1b\\x90\\xbe\\xe3\\x95\\xe8\\r^\\xf8_\\xe3\\xdd#\\xe1\\xf6\\x8d6\\x91\\xadh\\x97v\\xba\\x99\\x9c\\xbc\\xcd\\xb0,\\xce\\x0e\\x02\\xfc\\xaf\\xb4\\xe0t\\xc0$\\xf58\\xe6\\xbd\\x0f\\xc5I\\xe0?\\x17$o\\xa8\\xdf\\r?T\\x89CA\\xa8\"\\xbd\\xbc\\xd0\\xb0\\xe8\\x032\\x82p{\\x1f\\xd3\\xads\\xc9\\xacx\\x8a\\xd8=\\xbd\\x97\\xc4\\xdf\\n_K\\x19)\\x07\\xf6\\x99\\x8e9\\xb6v;\\x94\\xe7q\\xe4\\x10A\\xf7\\xeb@\\x1ei\\xae\\xeb\\xba7\\x8c~5\\xc3\\xa8\\xeaq\\x9d;Gk\\x88\\x96o\\xb4\\xa9F1\\xa2\\x8e_\\x1c\\x82\\xd8\\xc7\\xb0#\\x9e+[\\xc6\\xedi\\xf1\\x13\\xc4\\x16\\xfa\\'\\x83Z\\xea\\xe6\\xde\\xc5fsq{t\\xcf\\x13\\x1d\\xa0\\x85\\x8d\\xa5%\\x94\\x1d\\xa4c8\\'\\x1c\\x003]\\x8a\\xea\\x9a\\xfe\\xb3z\\xf3\\xdc\\xe9\\x9f\\x0fo.\\t-\\xe7^]$\\x8c\\x17\\x81\\xb5p7\\x05\\xe3\\xbez\\xf5\\xa9m\\xfc!\\xackz\\x82\\xc1\\xaa\\xf8\\x8f\\xc2\\xd6\\x1aR\\x12\\xc9a\\xa2\\xa29c\\xd7\\x1b\\xa4L\\x8c\\xf5\\'\\x9e\\x9d=\\x009\\xbf\\x00\\xf8\\xab\\xc4~\\x03\\x85\\xfc.\\xde\\x00\\xb8\\xbd\\xbf\\xc6\\xf9\\x04\\n\\xcb+),U\\xa4 0#\\x92\\x01\\xe0`U\\xdf\\x85~\\x1c\\xbe\\xf0\\x8f\\x8b5\\x1f\\x10\\xf8\\xa2\\xce\\xf3H\\x13#G\\x0c1Z\\xbb\\xc3\\x87`\\xc7s `\\xaa00\\t\\x1f\\xa7=\\xa6\\x9b\\xe1\\xbf\\x0b\\xe8\\x1a4\\xb3j\\xf6\\x9a;\\xdc\\x9b\\x91\\x12\\xb6\\x99\\x1c\\x80($*)\\x0b\\x93\\xdf\\xe6 \\x01\\xde\\xac\\xebzf\\x8b\\xa7Z\\xcb1\\xbb\\x9e\\xc2\\xd96\\x0f\\xb4\\xdbk\\x93!L\\xf5\\xeb \\x00\\x0fNr=(\\x03\\xa9\\xb2\\xf1~\\x81\\xa9\\xea\\xf1\\xe9z~\\xa7\\x05\\xe5\\xd4\\x90\\xb4\\xf8\\xb6>j\\xaa\\x03\\x8f\\x99\\x97!N{\\x13\\x9e+\\xcd\\xfe;\\xf8kZ\\xf1Tz-\\xa6\\x89\\xa7Ky-\\xbf\\x9d4\\xa1\\x08\\x1bT\\xec\\x03\\x92Fy\\x07\\x81V|A\\xe1\\x7f\\x877\\x9a\\xa5\\x8d\\xd4\\xfe#\\x96\\xd2t>s]\\x1djI\\x0c\\x88\\x06\\x02\\x99$\\x91\\xb6\\xf2A\\x18\\xc1\\xe0\\xd4z\\xac\\x10^\\x9b\\x04\\xf0\\x96\\xbb\\xe2\\xab\\xf4g\\xdb0\\xb5\\xbe\\x9eH\\xc4x<\\xefa\\x82s\\x81\\x8f5>\\xb4\\x01\\xdeE4\\x9a\\x0f\\x80\\xad\\x0c\\xad\\xe5Oog\\x14{dM\\xe4\\xbe\\x15B\\x05\\x18\\xcb\\x13\\xf2\\x80;\\x91M\\xb3\\xf0\\xfcwZe\\xd4Z\\xb4#\\xed\\xba\\x82\\x89\\'1\\x8e \\xc7\\x11\\xa4m\\xdb\\xcb\\xecG\\xf1e\\xb8\\xcdq\\xb6\\x9e\\x0b\\xf1\\x1b\\xc8\\x97:\\xd5\\xac\\xb7\\xc9\\x16\\x1e+x<E{\\x1bF\\xe38q\\xbeG\\xcc\\x80\\x1cp\\xea\\x06N3\\xd6\\xb6\\xe4\\xd1t\\xc5\\xb1\\x13O\\xe0\\xedF\\xea]\\xf1\\xa1\\xb4\\xbb\\xba\\x17\\x07\\x0c\\xd8\\'\\xe6\\x95\\x94\\x85\\x1c\\x9e{\\xfdp\\x01\\x95\\xa3[j\\xf67\\xd7\\xc6\\xc6\\xf6{\\xf9c\\xb8x\\xafnm#\\x84}\\xaaM\\x91\\x14v\\xf9~\\xf0\\\\\\xa9\\x19\\xeb\\x9fQEz]\\xbd\\xb4\\x16\\x96\\xe9om\\x0cp\\xc2\\x83\\t\\x1cj\\x15T{\\x01\\xc0\\xa2\\x802t+t\\xb6\\xd4\\xb5\\xa5G\\x99\\x97\\xed)\\x81$\\xcf _\\xdd\\'M\\xc4\\xe0}*\\xfe\\xa2\\xbb\\x96\\xdb\\xe6q\\x8b\\x88\\xcf\\xca\\xc5s\\xcf|u\\x1e\\xd4Q@\\x10\\xda\\x0f\\xb6\\xbf\\x99pY\\x9a\\t\\x98\\xc7\\x86+\\x8eH\\xe7\\x18\\xcf\\x1e\\xb5v\\xde\\xde;X\\xcaD\\x18)b\\xc7s\\x96\\xe4\\x9c\\x9e\\xa6\\x8a(\\x02=BG\\x86\\xc6G\\x8d\\xb6\\xb0\\xc6\\x0f\\xe2*\\xcd\\x14P\\x01U\\xef\\xacmu+\\x19\\xec\\xaf`I\\xed\\xa7B\\x92\\xc4\\xe3!\\x94\\xf5\\x06\\x8a(\\x03\"\\xd6\\xc6\\x08\\xbccq\"y\\xab\\xe5XB\\x91\\xc6&\\x7f-F\\xe7\\x1c&v\\x8e\\x83\\x9cV\\x8d\\x94J\\xdfmG\\xcb\\xab\\\\6C\\xb1a\\xd0q\\xcfA\\xed\\xd2\\x8a(\\x01\\xf2iz|\\xcb\\xb6[\\x0bY\\x14\\x1c\\xe1\\xa1R3\\xf9T\\x0f\\xe1\\xed\\x12T)&\\x8f\\xa7\\xba\\x9e\\xaa\\xd6\\xc8G\\xf2\\xa2\\x8a\\x00\\xcd\\x83\\xc2^\\x1c\\x1a\\x9d\\xe1\\xfe\\xc1\\xd3H+\\x1f\\x06\\xd5\\x08\\x1c\\x1e\\x83\\x18\\x1f\\x85\\\\\\xff\\x00\\x84O\\xc3\\x7f\\xf4/\\xe9_\\xf8\\x05\\x1f\\xf8QE\\x00K\\xa5\\xe9\\x96\\x16\\x0fq\\x15\\x9d\\x8d\\xb5\\xbaE\\'\\xc8\"\\x89W\\x19POA\\xeaM0\\xdd\\xcf\\xff\\x00\\tj\\xd9\\xf9\\x87\\xec\\xe6\\xc4\\xcb\\xb3\\x03\\xefy\\x80g\\xd7\\xa5\\x14P\\x06\\xb5D@7K\\x90\\x0e\\xd4$\\x129\\x14Q@\\x12\\xd1E\\x14\\x01\\xff\\xd9'\n"
     ]
    }
   ],
   "source": [
    " print(img.content)"
   ]
  },
  {
   "cell_type": "code",
   "execution_count": 21,
   "id": "0dbe9a40",
   "metadata": {},
   "outputs": [],
   "source": [
    "with open('/home/riya/Desktop/playground/image.jpeg','wb') as f:\n",
    "    f.write(img.content)"
   ]
  },
  {
   "cell_type": "code",
   "execution_count": null,
   "id": "937dd938",
   "metadata": {},
   "outputs": [],
   "source": []
  },
  {
   "cell_type": "code",
   "execution_count": 22,
   "id": "0c334cca",
   "metadata": {},
   "outputs": [],
   "source": [
    "#pip install opencv-python"
   ]
  },
  {
   "cell_type": "code",
   "execution_count": null,
   "id": "c3e04a54",
   "metadata": {},
   "outputs": [],
   "source": []
  },
  {
   "cell_type": "code",
   "execution_count": 23,
   "id": "06a947fd",
   "metadata": {},
   "outputs": [],
   "source": [
    "#pip install pytesseract"
   ]
  },
  {
   "cell_type": "code",
   "execution_count": 24,
   "id": "5a434696",
   "metadata": {},
   "outputs": [],
   "source": [
    "import cv2\n",
    "from pytesseract import pytesseract\n",
    "from pytesseract import Output"
   ]
  },
  {
   "cell_type": "code",
   "execution_count": 25,
   "id": "19721a23",
   "metadata": {},
   "outputs": [],
   "source": [
    "img = cv2.imread(\"/home/riya/Desktop/playground/image.jpeg\")"
   ]
  },
  {
   "cell_type": "code",
   "execution_count": 26,
   "id": "ebe73465",
   "metadata": {},
   "outputs": [],
   "source": [
    "gray = cv2.cvtColor(img, cv2.COLOR_BGR2GRAY)\n",
    "rect_kernel = cv2.getStructuringElement(cv2.MORPH_RECT, (2,2))\n",
    "thresh=cv2.dilate(gray,rect_kernel,iterations=1)"
   ]
  },
  {
   "cell_type": "code",
   "execution_count": 27,
   "id": "b6ddcab0",
   "metadata": {},
   "outputs": [
    {
     "name": "stdout",
     "output_type": "stream",
     "text": [
      "['', '', '', '', 'BB', '@8F']\n"
     ]
    }
   ],
   "source": [
    "image_data = pytesseract.image_to_data(thresh, output_type=Output.DICT)\n",
    "print(image_data[\"text\"])"
   ]
  },
  {
   "cell_type": "code",
   "execution_count": 28,
   "id": "090f8ad6",
   "metadata": {},
   "outputs": [],
   "source": [
    "#pip install tesseract"
   ]
  },
  {
   "cell_type": "code",
   "execution_count": 30,
   "id": "16cf00be",
   "metadata": {},
   "outputs": [
    {
     "name": "stdout",
     "output_type": "stream",
     "text": [
      "['', '', '', '', 'BB', '@8F']\n"
     ]
    }
   ],
   "source": [
    "image_data = pytesseract.image_to_data(thresh, output_type=Output.DICT)\n",
    "print(image_data[\"text\"])"
   ]
  },
  {
   "cell_type": "code",
   "execution_count": 31,
   "id": "d7c0aef1",
   "metadata": {},
   "outputs": [],
   "source": [
    "captcha_Str = \"\""
   ]
  },
  {
   "cell_type": "code",
   "execution_count": 32,
   "id": "8c7c3334",
   "metadata": {},
   "outputs": [],
   "source": [
    "for i, word in enumerate(image_data['text']):\n",
    "    if word != '':\n",
    "        captcha_Str = captcha_Str+word"
   ]
  },
  {
   "cell_type": "code",
   "execution_count": 33,
   "id": "7f9935da",
   "metadata": {},
   "outputs": [
    {
     "data": {
      "text/plain": [
       "'BB@8F'"
      ]
     },
     "execution_count": 33,
     "metadata": {},
     "output_type": "execute_result"
    }
   ],
   "source": [
    "captcha_Str"
   ]
  },
  {
   "cell_type": "code",
   "execution_count": 34,
   "id": "4df6fd6b",
   "metadata": {},
   "outputs": [],
   "source": [
    "def fetch_data():\n",
    "    \n",
    "    url_link=\"https://www.karvykra.com/UPanSearchGlobalWithPanExempt.aspx\"\n",
    "    \n",
    "    headers = {\n",
    "        \n",
    "        \"User-Agent\":\"Mozilla/5.0 (X11; Linux x86_64) AppleWebKit/537.36 (KHTML, like Gecko) Chrome/100.0.4896.127 Safari/537.36\",\n",
    "        \"Origin\":\"https://www.karvykra.com\",\n",
    "        \"Referer\":\"https://www.karvykra.com/UPanSearchGlobalWithPanExempt.aspx\",\n",
    "        \"Content-Type\":\"application/x-www-form-urlencoded\"\n",
    "    }\n",
    "    \n",
    "    payload = {\n",
    "        \n",
    "        \"__EVENTTARGET\":\"\",\n",
    "        \"__EVENTARGUMENT\":\"\",\n",
    "        \"__VIEWSTATE\":__VIEWSTATE,\n",
    "        \"__VIEWSTATEGENERATOR\":__VIEWSTATEGENERATOR,\n",
    "        \"__EVENTVALIDATION\":__EVENTVALIDATION,\n",
    "        \"txtpanNo\":encoded_pan_num,\n",
    "        \"txtItnrMdtCapcha\":captcha_Str,\n",
    "        \"btnSearch\":\"Search Now\"\n",
    "    }\n",
    "    response = requests.post(url_link,headers=headers,data=payload)\n",
    "    print(response.content)\n",
    "    return response"
   ]
  },
  {
   "cell_type": "code",
   "execution_count": 35,
   "id": "1a4cab02",
   "metadata": {},
   "outputs": [
    {
     "name": "stdout",
     "output_type": "stream",
     "text": [
      "b'\\r\\n\\r\\n<!DOCTYPE html PUBLIC \"-//W3C//DTD XHTML 1.0 Transitional//EN\" \"http://www.w3.org/TR/xhtml1/DTD/xhtml1-transitional.dtd\">\\r\\n\\r\\n<html xmlns=\"http://www.w3.org/1999/xhtml\">\\r\\n<head id=\"Head1\"><title>\\r\\n\\tKnow Your Status\\r\\n</title>\\r\\n    <script language=\"javascript\" type=\"text/javascript\" src=\"/Scripts/MyHsCode02.js\"></script>\\r\\n    <style type=\"text/css\">\\r\\n        .style4\\r\\n        {\\r\\n            color: #74a501;\\r\\n            font-weight: bold;\\r\\n            font-size: 11pt;\\r\\n        }\\r\\n        .style5\\r\\n        {\\r\\n            height: 24px;\\r\\n        }\\r\\n    </style>\\r\\n    <script language=\"javascript\" type=\"text/javascript\">\\r\\n\\t    function SubmitForm() {\\r\\n\\t        document.getElementById(\"txtpanNo\").value = ecncrpt(document.getElementById(\"txtpanNo\").value);\\r\\n\\t        return true;\\r\\n        }\\r\\n    </script>\\r\\n</head>\\r\\n<body>\\r\\n    <form method=\"post\" action=\"./UPanSearchGlobalWithPanExempt.aspx\" onsubmit=\"javascript:return WebForm_OnSubmit();\" id=\"form1\">\\r\\n<div class=\"aspNetHidden\">\\r\\n<input type=\"hidden\" name=\"__EVENTTARGET\" id=\"__EVENTTARGET\" value=\"\" />\\r\\n<input type=\"hidden\" name=\"__EVENTARGUMENT\" id=\"__EVENTARGUMENT\" value=\"\" />\\r\\n<input type=\"hidden\" name=\"__VIEWSTATE\" id=\"__VIEWSTATE\" value=\"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\" />\\r\\n</div>\\r\\n\\r\\n<script type=\"text/javascript\">\\r\\n//<![CDATA[\\r\\nvar theForm = document.forms[\\'form1\\'];\\r\\nif (!theForm) {\\r\\n    theForm = document.form1;\\r\\n}\\r\\nfunction __doPostBack(eventTarget, eventArgument) {\\r\\n    if (!theForm.onsubmit || (theForm.onsubmit() != false)) {\\r\\n        theForm.__EVENTTARGET.value = eventTarget;\\r\\n        theForm.__EVENTARGUMENT.value = eventArgument;\\r\\n        theForm.submit();\\r\\n    }\\r\\n}\\r\\n//]]>\\r\\n</script>\\r\\n\\r\\n\\r\\n<script src=\"/WebResource.axd?d=_suZ-d311RuEYUlQOMHvaXyC57u_u6ftFimd87neO2ihBcyhIuamzgL6zxP_i2csZU6haqfRu6Si6Re7I0f00SrNzTyALhtS3itQewCayTU1&amp;t=636765175280000000\" type=\"text/javascript\"></script>\\r\\n\\r\\n\\r\\n<script src=\"/ScriptResource.axd?d=AVL4LrxbR8hVpG-uwVRBaGkWTphRDBsVCmvPCiK6Gws0eMNw65TYzjqpq1PqWICaTcmPpoXIxYBFfI0IQvu3ezZLQHcTT2O-hiSYFtifn-31upfbAeF6htH-JFgoAx_cvpFGxQIcRMia3fjBIly6ATevuVc3tblmgbcnNWqlR3E1&amp;t=29665526\" type=\"text/javascript\"></script>\\r\\n<script src=\"/ScriptResource.axd?d=8XjZEr4FelpL0oAp2pkMD5IjbAZyMeEsAzGCG9ZI8qZl8FBpFKOnBcObj7LJv88K42yKToK_m__jV3_RbRMwFJls1B-VXgRczB1yTDYBeB5rT2t6q_hUYEhB6Qseuxxg9pE7a7ePeDefFaXwPIm9trckx4JvnZi6zHjmA2q7L8I1&amp;t=ffffffff999c3159\" type=\"text/javascript\"></script>\\r\\n<script src=\"/ScriptResource.axd?d=hs-ww4Ml52C7ANhgyUU_Tyj5XFRAWHUhuUOXv353nMVWS7tWZfGMGnh9wXN0MmhBdYLvWHv4pv5qBv9TrbPZ8H0pg89A-XKKH-ND2UNPmQHjNxdZkPHu2pj9j5fN3RMyr9fAMKQgGjgWhOiRV0uVwVGokfkQF7__f5kcf3ueRugVEd3kdXkidmv-MzZLUYwz0&amp;t=ffffffff999c3159\" type=\"text/javascript\"></script>\\r\\n<script type=\"text/javascript\">\\r\\n//<![CDATA[\\r\\nfunction WebForm_OnSubmit() {\\r\\nif (typeof(ValidatorOnSubmit) == \"function\" && ValidatorOnSubmit() == false) return false;return SubmitForm();\\r\\nreturn true;\\r\\n}\\r\\n//]]>\\r\\n</script>\\r\\n\\r\\n<div class=\"aspNetHidden\">\\r\\n\\r\\n\\t<input type=\"hidden\" name=\"__VIEWSTATEGENERATOR\" id=\"__VIEWSTATEGENERATOR\" value=\"68FE7E90\" />\\r\\n\\t<input type=\"hidden\" name=\"__EVENTVALIDATION\" id=\"__EVENTVALIDATION\" value=\"/wEdAARCB91NlqqXsWCEAJ7gQYpQa80g7XYN6e5YUp/r7s/N5H7U3g4so7IZ4rvahWkJwG2O1N1XNFmfsMXJasjxX85jFLoXEgynBbRb2OtoANNVxbfvBDGJVVKj/kDFp/Vauf4=\" />\\r\\n</div>\\r\\n      <script type=\"text/javascript\">\\r\\n//<![CDATA[\\r\\nSys.WebForms.PageRequestManager._initialize(\\'ScriptManager1\\', \\'form1\\', [], [], [], 90, \\'\\');\\r\\n//]]>\\r\\n</script>\\r\\n\\r\\n    <div>\\r\\n        <div>\\r\\n            <table width=\"980\" border=\"0\" align=\"center\" cellpadding=\"0\" cellspacing=\"0\">\\r\\n                <tr>\\r\\n                    <td width=\"980\" valign=\"top\" bgcolor=\"#FBFBFB\">\\r\\n                        <table width=\"100%\" border=\"0\" cellpadding=\"6\" cellspacing=\"0\" bgcolor=\"#0EB1E8\">\\r\\n                            <tr>\\r\\n                                <td width=\"21\" align=\"center\" valign=\"middle\" class=\"white1\">\\r\\n                                    <img src=\"images/arrow.jpg\" alt=\"\" width=\"21\" height=\"20\" />\\r\\n                                </td>\\r\\n                                <td class=\"white1\">\\r\\n                                    <strong>PAN SEARCH</strong>\\r\\n                                </td>\\r\\n                            </tr>\\r\\n                        </table>\\r\\n                    </td>\\r\\n                </tr>\\r\\n            </table>\\r\\n            <table width=\"980\" border=\"0\" align=\"center\" cellpadding=\"6\" cellspacing=\"0\" bgcolor=\"#FBFBFB\">\\r\\n                <tr>\\r\\n                    <td valign=\"top\">\\r\\n                        <table width=\"100%\" border=\"0\" cellspacing=\"0\" cellpadding=\"0\" style=\"margin-left: 100px;\">\\r\\n                            <tr>\\r\\n                                <td valign=\"top\" align=\"left\">\\r\\n                                    <form method=\"post\" action=\"#\">\\r\\n                                    <span style=\"color: Red;\">*</span> <span class=\"running\" style=\"font-size: small; font-family:Trebuchet MS\">Please enter Captcha \\r\\nCode in\\r\\n                                        the bottom before submitting the Query<br />\\r\\n                                    </span>\\r\\n                                    <br />\\r\\n                                    <table width=\"60%\">\\r\\n                                        <tr>\\r\\n                                            <td>\\r\\n                                                <span class=\"running\" style=\"font-size: small; font-family:Trebuchet MS\">PAN No. </span>\\r\\n                                            </td>\\r\\n                                            <td>\\r\\n                                                <input name=\"txtpanNo\" type=\"text\" value=\"AGRPM0511F\" maxlength=\"10\" id=\"txtpanNo\" class=\"inputField\" />\\r\\n                                                <span id=\"RequiredFieldValidator1\" style=\"visibility:hidden;\">*</span>\\r\\n                                            </td>\\r\\n                                        </tr>\\r\\n                                        <tr>\\r\\n                                            <td style=\"font-size: small; font-family:Trebuchet MS\">\\r\\n                                                Enter below characters:\\r\\n                                            </td>\\r\\n                                            <td>\\r\\n                                                <input name=\"txtItnrMdtCapcha\" type=\"text\" value=\"BB@8F\" maxlength=\"5\" id=\"txtItnrMdtCapcha\" class=\"inputField\" />\\r\\n                                                <span id=\"RequiredFieldValidator5\" style=\"visibility:hidden;\">*</span>\\r\\n                                            </td>\\r\\n                                        </tr>\\r\\n                                        <tr>\\r\\n                                            <td>\\r\\n                                            </td>\\r\\n                                            <td>\\r\\n                                                <div style=\\'background-color:White;color:White;\\' ><img src=\"CaptchaImage.axd?guid=4581d632-0fda-461e-8f1c-eebcc2faa9d5\" border=\"0\" alt=\"Captcha\" width=\"150\" height=\"35\" /></div>\\r\\n                                            </td>\\r\\n                                        </tr>\\r\\n                                        <tr>\\r\\n                                            <td style=\"text-align: center;\">\\r\\n                                                <input type=\"submit\" name=\"btnSearch\" value=\"Search Now\" onclick=\"javascript:WebForm_DoPostBackWithOptions(new WebForm_PostBackOptions(&quot;btnSearch&quot;, &quot;&quot;, true, &quot;btnSearch&quot;, &quot;&quot;, false, false))\" id=\"btnSearch\" />\\r\\n                                                &nbsp;\\r\\n                                            </td>\\r\\n                                            <td style=\"font-size: small; font-family:Trebuchet MS\">\\r\\n                                                <a href=\"index.aspx\" class=\"style4\">click here</a> to Go HOME\\r\\n                                            </td>\\r\\n                                        </tr>\\r\\n                                    </table>\\r\\n                                    <br />\\r\\n                                    \\r\\n                                                                      \\r\\n                                    <div id=\"NoResult\" style=\"font-weight: bold; color: Red;\">\\r\\n                                        <span id=\"lblResp\"></span>\\r\\n                                    </div>\\r\\n                                    <table id=\"Table1\" width=\"60%\">\\r\\n\\t<tr>\\r\\n\\t\\t<td>\\r\\n\\r\\n\\r\\n\\r\\n\\r\\n\\r\\n\\t\\t<table id=\"PanDetails\" width=\"100%\">\\r\\n\\t\\t\\t<tr>\\r\\n\\t\\t\\t\\t<td nowrap=\"nowrap\" class=\"running\" style=\"border-top: 2px solid Blue; text-align: center; font-weight: bold;font-size: small; font-family: Trebuchet MS; \" colspan=\"4\">\\r\\n\\t\\t\\t\\t\\tCKYC APPLICATION STATUS SUBMITTED TO KARVY\\r\\n\\t\\t\\t\\t</td>\\r\\n\\t\\t\\t</tr>\\r\\n\\t\\t\\t<tr>\\r\\n\\t\\t\\t\\t<td nowrap=\"nowrap\" class=\"running\" style=\"font-size: small; font-family: Trebuchet MS; font-weight: bold;\">CKYC Apln. Date : </td>\\r\\n\\t\\t\\t\\t<td class=\"running\" style=\"font-size: small; font-family: Trebuchet MS; font-weight: bold;\" nowrap=\"nowrap\">\\r\\n\\t\\t\\t\\t\\t<span id=\"lblCkycDate\"></span>\\r\\n\\t\\t\\t\\t</td>\\r\\n\\t\\t\\t\\t<td nowrap=\"nowrap\" class=\"running\" style=\"font-size: small; font-family: Trebuchet MS; font-weight: bold;\">CKYC Apln. Status :</td>\\r\\n\\t\\t\\t\\t<td class=\"running\" style=\"font-size: small; font-family: Trebuchet MS; font-weight: bold;\" nowrap=\"nowrap\">\\r\\n\\t\\t\\t\\t\\t<span id=\"lblCkycStatus\"></span>\\r\\n\\t\\t\\t\\t</td>\\r\\n\\t\\t\\t</tr>\\r\\n\\t\\t\\t<tr>\\r\\n\\t\\t\\t\\t<td nowrap=\"nowrap\" class=\"running\" style=\"font-size: small; font-family: Trebuchet MS; font-weight: bold;\">\\r\\n\\t\\t\\t\\t\\tCKYC Ack. No.\\r\\n\\t\\t\\t\\t\\t: </td>\\r\\n\\t\\t\\t\\t<td class=\"running\" style=\"font-size: small; font-family: Trebuchet MS; font-weight: bold;\" nowrap=\"nowrap\">\\r\\n\\t\\t\\t\\t\\t<span id=\"lblCkycAckNumber\"></span>\\r\\n\\t\\t\\t\\t</td>\\r\\n\\t\\t\\t\\t<td nowrap=\"nowrap\" class=\"running\" style=\"font-size: small; font-family: Trebuchet MS; font-weight: bold;\">CKYC ID :</td>\\r\\n\\t\\t\\t\\t<td class=\"running\" style=\"font-size: small; font-family: Trebuchet MS; font-weight: bold;\" nowrap=\"nowrap\">\\r\\n\\t\\t\\t\\t\\t<span id=\"lblCkycRefNumber\"></span>\\r\\n\\t\\t\\t\\t</td>\\r\\n\\t\\t\\t</tr>\\r\\n\\t\\t\\t<tr>\\r\\n\\t\\t\\t\\t<td colspan=\"4\">\\r\\n\\t\\t\\t\\t\\t&nbsp;\\r\\n\\t\\t\\t\\t</td>\\r\\n\\t\\t\\t</tr>\\r\\n\\t\\t\\t<tr>\\r\\n\\t\\t\\t\\t<td nowrap=\"nowrap\" class=\"running\" style=\"border-top: 2px solid Blue; text-align: center; font-weight: bold;font-size: small; font-family: Trebuchet MS; \" colspan=\"4\">\\r\\n\\t\\t\\t\\t\\tKRA STATUS\\r\\n\\t\\t\\t\\t</td>\\r\\n\\t\\t\\t</tr>\\r\\n\\t\\t\\t<tr>\\r\\n\\t\\t\\t\\t<td width=\"12%\" class=\"running\" style=\"font-size: small; font-family: Trebuchet MS; font-weight: bold;\">Status as on :</td>\\r\\n\\t\\t\\t\\t<td class=\"running\" style=\"font-size: small; font-family: Trebuchet MS; font-weight: bold;\" width=\"88%\" nowrap=\"nowrap\">\\r\\n\\t\\t\\t\\t\\t<span id=\"lblCheckedOn\">Mar 27, 2023 10:52:37</span>\\r\\n\\t\\t\\t\\t</td>\\r\\n\\t\\t\\t\\t<td nowrap=\"nowrap\" style=\"font-size: small; font-family: Trebuchet MS; font-weight: bold;\" width=\"20%\">KYC Flag : </td>\\r\\n\\t\\t\\t\\t<td class=\"running\" style=\"font-size: small; font-family: Trebuchet MS; font-weight: bold;\" width=\"80%\" nowrap=\"nowrap\">\\r\\n\\t\\t\\t\\t\\t<span id=\"lblKycFlag\"></span>\\r\\n\\t\\t\\t\\t</td>\\r\\n\\t\\t\\t</tr>\\r\\n\\t\\t\\t<tr>\\r\\n\\t\\t\\t\\t<td class=\"running\" style=\"font-size: small; font-family: Trebuchet MS; font-weight: bold;\">PAN:</td>\\r\\n\\t\\t\\t\\t<td class=\"running\" style=\"font-size: small; font-family: Trebuchet MS; font-weight: bold;\" nowrap=\"nowrap\">\\r\\n\\t\\t\\t\\t\\t<span id=\"lblPan\">AGRPM0511F</span>\\r\\n\\t\\t\\t\\t</td>\\r\\n\\t\\t\\t\\t<td nowrap=\"nowrap\" class=\"running\" style=\"font-size: small; font-family: Trebuchet MS; font-weight: bold;\">eSIGN Flag : </td>\\r\\n\\t\\t\\t\\t<td class=\"running\" style=\"font-size: small; font-family: Trebuchet MS; font-weight: bold;\" nowrap=\"nowrap\">\\r\\n\\t\\t\\t\\t\\t<span id=\"lbleSignFlag\"></span>\\r\\n\\t\\t\\t\\t</td>\\r\\n\\t\\t\\t</tr>\\r\\n\\t\\t\\t<tr>\\r\\n\\t\\t\\t\\t<td nowrap=\"nowrap\" class=\"running\" style=\"font-size: small; font-family: Trebuchet MS; font-weight: bold;\"></td>\\r\\n\\t\\t\\t\\t<td class=\"running\" style=\"font-size: small; font-family: Trebuchet MS; font-weight: bold;\" nowrap=\"nowrap\">\\r\\n\\t\\t\\t\\t\\t\\r\\n\\t\\t\\t\\t</td>\\r\\n\\t\\t\\t\\t<td nowrap=\"nowrap\" class=\"running\" style=\"font-size: small; font-family: Trebuchet MS; font-weight: bold;\">IPV Flag :</td>\\r\\n\\t\\t\\t\\t<td class=\"running\" style=\"font-size: small; font-family: Trebuchet MS; font-weight: bold;\" nowrap=\"nowrap\">\\r\\n\\t\\t\\t\\t\\t<span id=\"lbleIpvFlag\">IPV Exempt</span>\\r\\n\\t\\t\\t\\t</td>\\r\\n\\t\\t\\t</tr>\\r\\n\\t\\t</table>\\r\\n\\t\\t\\r\\n\\r\\n\\r\\n\\r\\n\\r\\n\\r\\n                                                    \\r\\n\\r\\n\\r\\n                                                </td>\\r\\n\\t</tr>\\r\\n\\t<tr>\\r\\n\\t\\t<td colspan=\"2\" align=\"left\">\\r\\n                                                <div>\\r\\n\\t\\t\\t<table cellspacing=\"0\" cellpadding=\"4\" align=\"Center\" rules=\"all\" id=\"GridView1\" style=\"background-color:White;border-color:#3366CC;border-width:1px;border-style:Solid;font-family:Trebuchet MS;font-size:Small;height:127px;width:1050px;border-collapse:collapse;text-align: center;\">\\r\\n\\t\\t\\t\\t<tr style=\"color:White;background-color:#0EB1E8;\">\\r\\n\\t\\t\\t\\t\\t<th scope=\"col\">KRA</th><th scope=\"col\">Date Of Upload</th><th scope=\"col\">Status</th><th scope=\"col\">Status Description</th><th scope=\"col\">Status Date</th><th scope=\"col\">Date Of Modification</th><th scope=\"col\">Modify Status</th><th scope=\"col\">Modify Hold Reasons</th>\\r\\n\\t\\t\\t\\t</tr><tr>\\r\\n\\t\\t\\t\\t\\t<td>KARVY</td><td>&nbsp;</td><td>05</td><td>Not Available</td><td>&nbsp;</td><td>&nbsp;</td><td>&nbsp;</td><td>&nbsp;</td>\\r\\n\\t\\t\\t\\t</tr><tr style=\"background-color:AliceBlue;\">\\r\\n\\t\\t\\t\\t\\t<td>CVL</td><td>25-05-2022 04:23:29</td><td>02</td><td>KYC Registered</td><td>08-06-2022 18:17:19</td><td>&nbsp;</td><td>Not Available</td><td>&nbsp;</td>\\r\\n\\t\\t\\t\\t</tr><tr>\\r\\n\\t\\t\\t\\t\\t<td>NDML</td><td>&nbsp;</td><td>05</td><td>Not Available</td><td>&nbsp;</td><td>&nbsp;</td><td>Not Available</td><td>&nbsp;</td>\\r\\n\\t\\t\\t\\t</tr><tr style=\"background-color:AliceBlue;\">\\r\\n\\t\\t\\t\\t\\t<td>CAMS</td><td>&nbsp;</td><td>05</td><td>Not Available</td><td>&nbsp;</td><td>&nbsp;</td><td>Not Available</td><td>&nbsp;</td>\\r\\n\\t\\t\\t\\t</tr><tr>\\r\\n\\t\\t\\t\\t\\t<td>DOTEX</td><td>&nbsp;</td><td>05</td><td>Not Available</td><td>&nbsp;</td><td>&nbsp;</td><td>&nbsp;</td><td>&nbsp;</td>\\r\\n\\t\\t\\t\\t</tr><tr style=\"background-color:AliceBlue;\">\\r\\n\\t\\t\\t\\t\\t<td>BSE</td><td>&nbsp;</td><td>&nbsp;</td><td>The operation has timed out</td><td>&nbsp;</td><td>&nbsp;</td><td>&nbsp;</td><td>&nbsp;</td>\\r\\n\\t\\t\\t\\t</tr>\\r\\n\\t\\t\\t</table>\\r\\n\\t\\t</div>\\r\\n                                            </td>\\r\\n\\t</tr>\\r\\n\\t<tr>\\r\\n\\t\\t<td style=\"font-size: small; font-family:Trebuchet MS;font-weight:bold\"><br /></td>\\r\\n\\t</tr>\\r\\n\\t<tr>\\r\\n\\t\\t<td>\\r\\n                                                         </td>\\r\\n\\t</tr>\\r\\n\\t<tr>\\r\\n\\t\\t<td colspan=\"2\" align=\"left\">\\r\\n                                                \\r\\n                                            </td>\\r\\n\\t</tr>\\r\\n\\t<tr>\\r\\n\\t\\t<td>\\r\\n                                                    <span id=\"lblUnderProcess\" style=\"font-size:Medium;\"></span>\\r\\n                                                </td>\\r\\n\\t</tr>\\r\\n\\t<tr>\\r\\n\\t\\t<td style=\"font-size: small; font-family:Trebuchet MS\">\\r\\n                                                    <span id=\"lblVerified\" style=\"color:Blue;font-size:Medium;\">KYC is one time exercise while dealing in securities markets - \\r\\nonce KYC is done through a SEBI registered intermediary (broker, DP, Mutual Fund etc), you need not undergo the same process again when you approach another \\r\\nintermediary.</span><br />\\r\\n\\t\\t\\t\\t\\t\\t\\t\\t\\t\\t\\t\\t\\t\\r\\n                                                </td>\\r\\n\\t</tr>\\r\\n</table>\\r\\n\\r\\n                                    </form>\\r\\n                                </td>\\r\\n                            </tr>\\r\\n                        </table>\\r\\n                    </td>\\r\\n                </tr>\\r\\n            </table>\\r\\n            <br />\\r\\n        </div>\\r\\n    </div>\\r\\n    \\r\\n<script type=\"text/javascript\">\\r\\n//<![CDATA[\\r\\nvar Page_Validators =  new Array(document.getElementById(\"RequiredFieldValidator1\"), document.getElementById(\"RequiredFieldValidator5\"));\\r\\n//]]>\\r\\n</script>\\r\\n\\r\\n<script type=\"text/javascript\">\\r\\n//<![CDATA[\\r\\nvar RequiredFieldValidator1 = document.all ? document.all[\"RequiredFieldValidator1\"] : document.getElementById(\"RequiredFieldValidator1\");\\r\\nRequiredFieldValidator1.controltovalidate = \"txtpanNo\";\\r\\nRequiredFieldValidator1.focusOnError = \"t\";\\r\\nRequiredFieldValidator1.errormessage = \"Enter Pan Number\";\\r\\nRequiredFieldValidator1.validationGroup = \"btnSearch\";\\r\\nRequiredFieldValidator1.evaluationfunction = \"RequiredFieldValidatorEvaluateIsValid\";\\r\\nRequiredFieldValidator1.initialvalue = \"\";\\r\\nvar RequiredFieldValidator5 = document.all ? document.all[\"RequiredFieldValidator5\"] : document.getElementById(\"RequiredFieldValidator5\");\\r\\nRequiredFieldValidator5.controltovalidate = \"txtItnrMdtCapcha\";\\r\\nRequiredFieldValidator5.focusOnError = \"t\";\\r\\nRequiredFieldValidator5.errormessage = \"Enter Captcha Text\";\\r\\nRequiredFieldValidator5.validationGroup = \"btnSearch\";\\r\\nRequiredFieldValidator5.evaluationfunction = \"RequiredFieldValidatorEvaluateIsValid\";\\r\\nRequiredFieldValidator5.initialvalue = \"\";\\r\\n//]]>\\r\\n</script>\\r\\n\\r\\n\\r\\n<script type=\"text/javascript\">\\r\\n//<![CDATA[\\r\\n\\r\\nvar Page_ValidationActive = false;\\r\\nif (typeof(ValidatorOnLoad) == \"function\") {\\r\\n    ValidatorOnLoad();\\r\\n}\\r\\n\\r\\nfunction ValidatorOnSubmit() {\\r\\n    if (Page_ValidationActive) {\\r\\n        return ValidatorCommonOnSubmit();\\r\\n    }\\r\\n    else {\\r\\n        return true;\\r\\n    }\\r\\n}\\r\\n        \\r\\ndocument.getElementById(\\'RequiredFieldValidator1\\').dispose = function() {\\r\\n    Array.remove(Page_Validators, document.getElementById(\\'RequiredFieldValidator1\\'));\\r\\n}\\r\\n\\r\\ndocument.getElementById(\\'RequiredFieldValidator5\\').dispose = function() {\\r\\n    Array.remove(Page_Validators, document.getElementById(\\'RequiredFieldValidator5\\'));\\r\\n}\\r\\n//]]>\\r\\n</script>\\r\\n</form>\\r\\n</body>\\r\\n</html>\\r\\n  <br />\\r\\n        </div>\\r\\n    </div>\\r\\n    </form>\\r\\n</body>\\r\\n</html>\\r\\n'\n"
     ]
    }
   ],
   "source": [
    "second_response = fetch_data()"
   ]
  },
  {
   "cell_type": "code",
   "execution_count": 36,
   "id": "147a3725",
   "metadata": {},
   "outputs": [],
   "source": [
    "soup = BeautifulSoup(second_response.text,'lxml')"
   ]
  },
  {
   "cell_type": "code",
   "execution_count": 37,
   "id": "f6fb636f",
   "metadata": {},
   "outputs": [
    {
     "data": {
      "text/plain": [
       "<!DOCTYPE html PUBLIC \"-//W3C//DTD XHTML 1.0 Transitional//EN\" \"http://www.w3.org/TR/xhtml1/DTD/xhtml1-transitional.dtd\">\n",
       "<html xmlns=\"http://www.w3.org/1999/xhtml\">\n",
       "<head id=\"Head1\"><title>\n",
       "\tKnow Your Status\n",
       "</title>\n",
       "<script language=\"javascript\" src=\"/Scripts/MyHsCode02.js\" type=\"text/javascript\"></script>\n",
       "<style type=\"text/css\">\n",
       "        .style4\n",
       "        {\n",
       "            color: #74a501;\n",
       "            font-weight: bold;\n",
       "            font-size: 11pt;\n",
       "        }\n",
       "        .style5\n",
       "        {\n",
       "            height: 24px;\n",
       "        }\n",
       "    </style>\n",
       "<script language=\"javascript\" type=\"text/javascript\">\n",
       "\t    function SubmitForm() {\n",
       "\t        document.getElementById(\"txtpanNo\").value = ecncrpt(document.getElementById(\"txtpanNo\").value);\n",
       "\t        return true;\n",
       "        }\n",
       "    </script>\n",
       "</head>\n",
       "<body>\n",
       "<form action=\"./UPanSearchGlobalWithPanExempt.aspx\" id=\"form1\" method=\"post\" onsubmit=\"javascript:return WebForm_OnSubmit();\">\n",
       "<div class=\"aspNetHidden\">\n",
       "<input id=\"__EVENTTARGET\" name=\"__EVENTTARGET\" type=\"hidden\" value=\"\"/>\n",
       "<input id=\"__EVENTARGUMENT\" name=\"__EVENTARGUMENT\" type=\"hidden\" value=\"\"/>\n",
       "<input id=\"__VIEWSTATE\" name=\"__VIEWSTATE\" type=\"hidden\" value=\"/wEPDwUKMjA1OTkxMDczNQ9kFgICBA8WAh4Ib25zdWJtaXQFFHJldHVybiBTdWJtaXRGb3JtKCk7FgQCEQ8WAh4HVmlzaWJsZWdkAhMPZBYKZg9kFgJmD2QWAgIBDxYCHwFnFgoCAQ9kFgQCAQ9kFgICAQ8PFgIeBFRleHRlZGQCAw9kFgICAQ8PFgIfAmVkZAICD2QWBAIBD2QWAgIBDw8WAh8CZWRkAgMPZBYCAgEPDxYCHwJlZGQCBQ9kFgQCAQ9kFgICAQ8PFgIfAgUVTWFyIDI3LCAyMDIzIDEwOjUyOjM3ZGQCAw9kFgICAQ8PFgIfAmVkZAIGD2QWBAIBD2QWAgIBDw8WAh8CBQpBR1JQTTA1MTFGZGQCAw9kFgICAQ8PFgIfAmVkZAIHD2QWBAIBD2QWAgIBDw8WAh8CBSlDSEFORFJBU0hFS0FSQVBVUkEgU1JFRU5JVkFTQU1VUlRIWSBNT0hBTmRkAgMPZBYCAgEPDxYCHwIFCklQViBFeGVtcHRkZAIBD2QWAmYPZBYCAgEPPCsAEQMADxYEHgtfIURhdGFCb3VuZGceC18hSXRlbUNvdW50AgZkARAWABYAFgAMFCsAABYCZg9kFg4CAQ9kFhBmDw8WAh8CBQVLQVJWWWRkAgEPDxYCHwIFBiZuYnNwO2RkAgIPDxYCHwIFAjA1ZGQCAw8PFgIfAgUNTm90IEF2YWlsYWJsZWRkAgQPDxYCHwIFBiZuYnNwO2RkAgUPDxYCHwIFBiZuYnNwO2RkAgYPDxYCHwIFBiZuYnNwO2RkAgcPDxYCHwIFBiZuYnNwO2RkAgIPZBYQZg8PFgIfAgUDQ1ZMZGQCAQ8PFgIfAgUTMjUtMDUtMjAyMiAwNDoyMzoyOWRkAgIPDxYCHwIFAjAyZGQCAw8PFgIfAgUOS1lDIFJlZ2lzdGVyZWRkZAIEDw8WAh8CBRMwOC0wNi0yMDIyIDE4OjE3OjE5ZGQCBQ8PFgIfAgUGJm5ic3A7ZGQCBg8PFgIfAgUNTm90IEF2YWlsYWJsZWRkAgcPDxYCHwIFBiZuYnNwO2RkAgMPZBYQZg8PFgIfAgUETkRNTGRkAgEPDxYCHwIFBiZuYnNwO2RkAgIPDxYCHwIFAjA1ZGQCAw8PFgIfAgUNTm90IEF2YWlsYWJsZWRkAgQPDxYCHwIFBiZuYnNwO2RkAgUPDxYCHwIFBiZuYnNwO2RkAgYPDxYCHwIFDU5vdCBBdmFpbGFibGVkZAIHDw8WAh8CBQYmbmJzcDtkZAIED2QWEGYPDxYCHwIFBENBTVNkZAIBDw8WAh8CBQYmbmJzcDtkZAICDw8WAh8CBQIwNWRkAgMPDxYCHwIFDU5vdCBBdmFpbGFibGVkZAIEDw8WAh8CBQYmbmJzcDtkZAIFDw8WAh8CBQYmbmJzcDtkZAIGDw8WAh8CBQ1Ob3QgQXZhaWxhYmxlZGQCBw8PFgIfAgUGJm5ic3A7ZGQCBQ9kFhBmDw8WAh8CBQVET1RFWGRkAgEPDxYCHwIFBiZuYnNwO2RkAgIPDxYCHwIFAjA1ZGQCAw8PFgIfAgUNTm90IEF2YWlsYWJsZWRkAgQPDxYCHwIFBiZuYnNwO2RkAgUPDxYCHwIFBiZuYnNwO2RkAgYPDxYCHwIFBiZuYnNwO2RkAgcPDxYCHwIFBiZuYnNwO2RkAgYPZBYQZg8PFgIfAgUDQlNFZGQCAQ8PFgIfAgUGJm5ic3A7ZGQCAg8PFgIfAgUGJm5ic3A7ZGQCAw8PFgIfAgUbVGhlIG9wZXJhdGlvbiBoYXMgdGltZWQgb3V0ZGQCBA8PFgIfAgUGJm5ic3A7ZGQCBQ8PFgIfAgUGJm5ic3A7ZGQCBg8PFgIfAgUGJm5ic3A7ZGQCBw8PFgIfAgUGJm5ic3A7ZGQCBw8PFgIfAWhkZAIDD2QWAmYPZBYCAgEPPCsAEQIADxYCHwFoZAwUKwAAZAIED2QWAmYPZBYCAgEPPCsAEQIADxYGHwNnHwRmHwFoZAwUKwAAZAIGD2QWAmYPZBYCAgEPDxYCHwFnZGQYBAUIZ3ZSZWplY3QPPCsADAEIZmQFCUdyaWRWaWV3Mg9nZAUJR3JpZFZpZXcxDzwrAAwBCAIBZAUGY2NKb2luDwUkNDU4MWQ2MzItMGZkYS00NjFlLThmMWMtZWViY2MyZmFhOWQ1ZBciRBy5J19BRNOpNVWjfJqPNsYTRBv0FhZ+wLL4u3bY\"/>\n",
       "</div>\n",
       "<script type=\"text/javascript\">\n",
       "//<![CDATA[\n",
       "var theForm = document.forms['form1'];\n",
       "if (!theForm) {\n",
       "    theForm = document.form1;\n",
       "}\n",
       "function __doPostBack(eventTarget, eventArgument) {\n",
       "    if (!theForm.onsubmit || (theForm.onsubmit() != false)) {\n",
       "        theForm.__EVENTTARGET.value = eventTarget;\n",
       "        theForm.__EVENTARGUMENT.value = eventArgument;\n",
       "        theForm.submit();\n",
       "    }\n",
       "}\n",
       "//]]>\n",
       "</script>\n",
       "<script src=\"/WebResource.axd?d=_suZ-d311RuEYUlQOMHvaXyC57u_u6ftFimd87neO2ihBcyhIuamzgL6zxP_i2csZU6haqfRu6Si6Re7I0f00SrNzTyALhtS3itQewCayTU1&amp;t=636765175280000000\" type=\"text/javascript\"></script>\n",
       "<script src=\"/ScriptResource.axd?d=AVL4LrxbR8hVpG-uwVRBaGkWTphRDBsVCmvPCiK6Gws0eMNw65TYzjqpq1PqWICaTcmPpoXIxYBFfI0IQvu3ezZLQHcTT2O-hiSYFtifn-31upfbAeF6htH-JFgoAx_cvpFGxQIcRMia3fjBIly6ATevuVc3tblmgbcnNWqlR3E1&amp;t=29665526\" type=\"text/javascript\"></script>\n",
       "<script src=\"/ScriptResource.axd?d=8XjZEr4FelpL0oAp2pkMD5IjbAZyMeEsAzGCG9ZI8qZl8FBpFKOnBcObj7LJv88K42yKToK_m__jV3_RbRMwFJls1B-VXgRczB1yTDYBeB5rT2t6q_hUYEhB6Qseuxxg9pE7a7ePeDefFaXwPIm9trckx4JvnZi6zHjmA2q7L8I1&amp;t=ffffffff999c3159\" type=\"text/javascript\"></script>\n",
       "<script src=\"/ScriptResource.axd?d=hs-ww4Ml52C7ANhgyUU_Tyj5XFRAWHUhuUOXv353nMVWS7tWZfGMGnh9wXN0MmhBdYLvWHv4pv5qBv9TrbPZ8H0pg89A-XKKH-ND2UNPmQHjNxdZkPHu2pj9j5fN3RMyr9fAMKQgGjgWhOiRV0uVwVGokfkQF7__f5kcf3ueRugVEd3kdXkidmv-MzZLUYwz0&amp;t=ffffffff999c3159\" type=\"text/javascript\"></script>\n",
       "<script type=\"text/javascript\">\n",
       "//<![CDATA[\n",
       "function WebForm_OnSubmit() {\n",
       "if (typeof(ValidatorOnSubmit) == \"function\" && ValidatorOnSubmit() == false) return false;return SubmitForm();\n",
       "return true;\n",
       "}\n",
       "//]]>\n",
       "</script>\n",
       "<div class=\"aspNetHidden\">\n",
       "<input id=\"__VIEWSTATEGENERATOR\" name=\"__VIEWSTATEGENERATOR\" type=\"hidden\" value=\"68FE7E90\"/>\n",
       "<input id=\"__EVENTVALIDATION\" name=\"__EVENTVALIDATION\" type=\"hidden\" value=\"/wEdAARCB91NlqqXsWCEAJ7gQYpQa80g7XYN6e5YUp/r7s/N5H7U3g4so7IZ4rvahWkJwG2O1N1XNFmfsMXJasjxX85jFLoXEgynBbRb2OtoANNVxbfvBDGJVVKj/kDFp/Vauf4=\"/>\n",
       "</div>\n",
       "<script type=\"text/javascript\">\n",
       "//<![CDATA[\n",
       "Sys.WebForms.PageRequestManager._initialize('ScriptManager1', 'form1', [], [], [], 90, '');\n",
       "//]]>\n",
       "</script>\n",
       "<div>\n",
       "<div>\n",
       "<table align=\"center\" border=\"0\" cellpadding=\"0\" cellspacing=\"0\" width=\"980\">\n",
       "<tr>\n",
       "<td bgcolor=\"#FBFBFB\" valign=\"top\" width=\"980\">\n",
       "<table bgcolor=\"#0EB1E8\" border=\"0\" cellpadding=\"6\" cellspacing=\"0\" width=\"100%\">\n",
       "<tr>\n",
       "<td align=\"center\" class=\"white1\" valign=\"middle\" width=\"21\">\n",
       "<img alt=\"\" height=\"20\" src=\"images/arrow.jpg\" width=\"21\"/>\n",
       "</td>\n",
       "<td class=\"white1\">\n",
       "<strong>PAN SEARCH</strong>\n",
       "</td>\n",
       "</tr>\n",
       "</table>\n",
       "</td>\n",
       "</tr>\n",
       "</table>\n",
       "<table align=\"center\" bgcolor=\"#FBFBFB\" border=\"0\" cellpadding=\"6\" cellspacing=\"0\" width=\"980\">\n",
       "<tr>\n",
       "<td valign=\"top\">\n",
       "<table border=\"0\" cellpadding=\"0\" cellspacing=\"0\" style=\"margin-left: 100px;\" width=\"100%\">\n",
       "<tr>\n",
       "<td align=\"left\" valign=\"top\">\n",
       "<form action=\"#\" method=\"post\">\n",
       "<span style=\"color: Red;\">*</span> <span class=\"running\" style=\"font-size: small; font-family:Trebuchet MS\">Please enter Captcha \n",
       "Code in\n",
       "                                        the bottom before submitting the Query<br/>\n",
       "</span>\n",
       "<br/>\n",
       "<table width=\"60%\">\n",
       "<tr>\n",
       "<td>\n",
       "<span class=\"running\" style=\"font-size: small; font-family:Trebuchet MS\">PAN No. </span>\n",
       "</td>\n",
       "<td>\n",
       "<input class=\"inputField\" id=\"txtpanNo\" maxlength=\"10\" name=\"txtpanNo\" type=\"text\" value=\"AGRPM0511F\"/>\n",
       "<span id=\"RequiredFieldValidator1\" style=\"visibility:hidden;\">*</span>\n",
       "</td>\n",
       "</tr>\n",
       "<tr>\n",
       "<td style=\"font-size: small; font-family:Trebuchet MS\">\n",
       "                                                Enter below characters:\n",
       "                                            </td>\n",
       "<td>\n",
       "<input class=\"inputField\" id=\"txtItnrMdtCapcha\" maxlength=\"5\" name=\"txtItnrMdtCapcha\" type=\"text\" value=\"BB@8F\"/>\n",
       "<span id=\"RequiredFieldValidator5\" style=\"visibility:hidden;\">*</span>\n",
       "</td>\n",
       "</tr>\n",
       "<tr>\n",
       "<td>\n",
       "</td>\n",
       "<td>\n",
       "<div style=\"background-color:White;color:White;\"><img alt=\"Captcha\" border=\"0\" height=\"35\" src=\"CaptchaImage.axd?guid=4581d632-0fda-461e-8f1c-eebcc2faa9d5\" width=\"150\"/></div>\n",
       "</td>\n",
       "</tr>\n",
       "<tr>\n",
       "<td style=\"text-align: center;\">\n",
       "<input id=\"btnSearch\" name=\"btnSearch\" onclick='javascript:WebForm_DoPostBackWithOptions(new WebForm_PostBackOptions(\"btnSearch\", \"\", true, \"btnSearch\", \"\", false, false))' type=\"submit\" value=\"Search Now\"/>\n",
       "                                                 \n",
       "                                            </td>\n",
       "<td style=\"font-size: small; font-family:Trebuchet MS\">\n",
       "<a class=\"style4\" href=\"index.aspx\">click here</a> to Go HOME\n",
       "                                            </td>\n",
       "</tr>\n",
       "</table>\n",
       "<br/>\n",
       "<div id=\"NoResult\" style=\"font-weight: bold; color: Red;\">\n",
       "<span id=\"lblResp\"></span>\n",
       "</div>\n",
       "<table id=\"Table1\" width=\"60%\">\n",
       "<tr>\n",
       "<td>\n",
       "<table id=\"PanDetails\" width=\"100%\">\n",
       "<tr>\n",
       "<td class=\"running\" colspan=\"4\" nowrap=\"nowrap\" style=\"border-top: 2px solid Blue; text-align: center; font-weight: bold;font-size: small; font-family: Trebuchet MS; \">\n",
       "\t\t\t\t\tCKYC APPLICATION STATUS SUBMITTED TO KARVY\n",
       "\t\t\t\t</td>\n",
       "</tr>\n",
       "<tr>\n",
       "<td class=\"running\" nowrap=\"nowrap\" style=\"font-size: small; font-family: Trebuchet MS; font-weight: bold;\">CKYC Apln. Date : </td>\n",
       "<td class=\"running\" nowrap=\"nowrap\" style=\"font-size: small; font-family: Trebuchet MS; font-weight: bold;\">\n",
       "<span id=\"lblCkycDate\"></span>\n",
       "</td>\n",
       "<td class=\"running\" nowrap=\"nowrap\" style=\"font-size: small; font-family: Trebuchet MS; font-weight: bold;\">CKYC Apln. Status :</td>\n",
       "<td class=\"running\" nowrap=\"nowrap\" style=\"font-size: small; font-family: Trebuchet MS; font-weight: bold;\">\n",
       "<span id=\"lblCkycStatus\"></span>\n",
       "</td>\n",
       "</tr>\n",
       "<tr>\n",
       "<td class=\"running\" nowrap=\"nowrap\" style=\"font-size: small; font-family: Trebuchet MS; font-weight: bold;\">\n",
       "\t\t\t\t\tCKYC Ack. No.\n",
       "\t\t\t\t\t: </td>\n",
       "<td class=\"running\" nowrap=\"nowrap\" style=\"font-size: small; font-family: Trebuchet MS; font-weight: bold;\">\n",
       "<span id=\"lblCkycAckNumber\"></span>\n",
       "</td>\n",
       "<td class=\"running\" nowrap=\"nowrap\" style=\"font-size: small; font-family: Trebuchet MS; font-weight: bold;\">CKYC ID :</td>\n",
       "<td class=\"running\" nowrap=\"nowrap\" style=\"font-size: small; font-family: Trebuchet MS; font-weight: bold;\">\n",
       "<span id=\"lblCkycRefNumber\"></span>\n",
       "</td>\n",
       "</tr>\n",
       "<tr>\n",
       "<td colspan=\"4\">\n",
       "\t\t\t\t\t \n",
       "\t\t\t\t</td>\n",
       "</tr>\n",
       "<tr>\n",
       "<td class=\"running\" colspan=\"4\" nowrap=\"nowrap\" style=\"border-top: 2px solid Blue; text-align: center; font-weight: bold;font-size: small; font-family: Trebuchet MS; \">\n",
       "\t\t\t\t\tKRA STATUS\n",
       "\t\t\t\t</td>\n",
       "</tr>\n",
       "<tr>\n",
       "<td class=\"running\" style=\"font-size: small; font-family: Trebuchet MS; font-weight: bold;\" width=\"12%\">Status as on :</td>\n",
       "<td class=\"running\" nowrap=\"nowrap\" style=\"font-size: small; font-family: Trebuchet MS; font-weight: bold;\" width=\"88%\">\n",
       "<span id=\"lblCheckedOn\">Mar 27, 2023 10:52:37</span>\n",
       "</td>\n",
       "<td nowrap=\"nowrap\" style=\"font-size: small; font-family: Trebuchet MS; font-weight: bold;\" width=\"20%\">KYC Flag : </td>\n",
       "<td class=\"running\" nowrap=\"nowrap\" style=\"font-size: small; font-family: Trebuchet MS; font-weight: bold;\" width=\"80%\">\n",
       "<span id=\"lblKycFlag\"></span>\n",
       "</td>\n",
       "</tr>\n",
       "<tr>\n",
       "<td class=\"running\" style=\"font-size: small; font-family: Trebuchet MS; font-weight: bold;\">PAN:</td>\n",
       "<td class=\"running\" nowrap=\"nowrap\" style=\"font-size: small; font-family: Trebuchet MS; font-weight: bold;\">\n",
       "<span id=\"lblPan\">AGRPM0511F</span>\n",
       "</td>\n",
       "<td class=\"running\" nowrap=\"nowrap\" style=\"font-size: small; font-family: Trebuchet MS; font-weight: bold;\">eSIGN Flag : </td>\n",
       "<td class=\"running\" nowrap=\"nowrap\" style=\"font-size: small; font-family: Trebuchet MS; font-weight: bold;\">\n",
       "<span id=\"lbleSignFlag\"></span>\n",
       "</td>\n",
       "</tr>\n",
       "<tr>\n",
       "<td class=\"running\" nowrap=\"nowrap\" style=\"font-size: small; font-family: Trebuchet MS; font-weight: bold;\"></td>\n",
       "<td class=\"running\" nowrap=\"nowrap\" style=\"font-size: small; font-family: Trebuchet MS; font-weight: bold;\">\n",
       "</td>\n",
       "<td class=\"running\" nowrap=\"nowrap\" style=\"font-size: small; font-family: Trebuchet MS; font-weight: bold;\">IPV Flag :</td>\n",
       "<td class=\"running\" nowrap=\"nowrap\" style=\"font-size: small; font-family: Trebuchet MS; font-weight: bold;\">\n",
       "<span id=\"lbleIpvFlag\">IPV Exempt</span>\n",
       "</td>\n",
       "</tr>\n",
       "</table>\n",
       "</td>\n",
       "</tr>\n",
       "<tr>\n",
       "<td align=\"left\" colspan=\"2\">\n",
       "<div>\n",
       "<table align=\"Center\" cellpadding=\"4\" cellspacing=\"0\" id=\"GridView1\" rules=\"all\" style=\"background-color:White;border-color:#3366CC;border-width:1px;border-style:Solid;font-family:Trebuchet MS;font-size:Small;height:127px;width:1050px;border-collapse:collapse;text-align: center;\">\n",
       "<tr style=\"color:White;background-color:#0EB1E8;\">\n",
       "<th scope=\"col\">KRA</th><th scope=\"col\">Date Of Upload</th><th scope=\"col\">Status</th><th scope=\"col\">Status Description</th><th scope=\"col\">Status Date</th><th scope=\"col\">Date Of Modification</th><th scope=\"col\">Modify Status</th><th scope=\"col\">Modify Hold Reasons</th>\n",
       "</tr><tr>\n",
       "<td>KARVY</td><td> </td><td>05</td><td>Not Available</td><td> </td><td> </td><td> </td><td> </td>\n",
       "</tr><tr style=\"background-color:AliceBlue;\">\n",
       "<td>CVL</td><td>25-05-2022 04:23:29</td><td>02</td><td>KYC Registered</td><td>08-06-2022 18:17:19</td><td> </td><td>Not Available</td><td> </td>\n",
       "</tr><tr>\n",
       "<td>NDML</td><td> </td><td>05</td><td>Not Available</td><td> </td><td> </td><td>Not Available</td><td> </td>\n",
       "</tr><tr style=\"background-color:AliceBlue;\">\n",
       "<td>CAMS</td><td> </td><td>05</td><td>Not Available</td><td> </td><td> </td><td>Not Available</td><td> </td>\n",
       "</tr><tr>\n",
       "<td>DOTEX</td><td> </td><td>05</td><td>Not Available</td><td> </td><td> </td><td> </td><td> </td>\n",
       "</tr><tr style=\"background-color:AliceBlue;\">\n",
       "<td>BSE</td><td> </td><td> </td><td>The operation has timed out</td><td> </td><td> </td><td> </td><td> </td>\n",
       "</tr>\n",
       "</table>\n",
       "</div>\n",
       "</td>\n",
       "</tr>\n",
       "<tr>\n",
       "<td style=\"font-size: small; font-family:Trebuchet MS;font-weight:bold\"><br/></td>\n",
       "</tr>\n",
       "<tr>\n",
       "<td>\n",
       "</td>\n",
       "</tr>\n",
       "<tr>\n",
       "<td align=\"left\" colspan=\"2\">\n",
       "</td>\n",
       "</tr>\n",
       "<tr>\n",
       "<td>\n",
       "<span id=\"lblUnderProcess\" style=\"font-size:Medium;\"></span>\n",
       "</td>\n",
       "</tr>\n",
       "<tr>\n",
       "<td style=\"font-size: small; font-family:Trebuchet MS\">\n",
       "<span id=\"lblVerified\" style=\"color:Blue;font-size:Medium;\">KYC is one time exercise while dealing in securities markets - \n",
       "once KYC is done through a SEBI registered intermediary (broker, DP, Mutual Fund etc), you need not undergo the same process again when you approach another \n",
       "intermediary.</span><br/>\n",
       "</td>\n",
       "</tr>\n",
       "</table>\n",
       "</form>\n",
       "</td>\n",
       "</tr>\n",
       "</table>\n",
       "</td>\n",
       "</tr>\n",
       "</table>\n",
       "<br/>\n",
       "</div>\n",
       "</div>\n",
       "<script type=\"text/javascript\">\n",
       "//<![CDATA[\n",
       "var Page_Validators =  new Array(document.getElementById(\"RequiredFieldValidator1\"), document.getElementById(\"RequiredFieldValidator5\"));\n",
       "//]]>\n",
       "</script>\n",
       "<script type=\"text/javascript\">\n",
       "//<![CDATA[\n",
       "var RequiredFieldValidator1 = document.all ? document.all[\"RequiredFieldValidator1\"] : document.getElementById(\"RequiredFieldValidator1\");\n",
       "RequiredFieldValidator1.controltovalidate = \"txtpanNo\";\n",
       "RequiredFieldValidator1.focusOnError = \"t\";\n",
       "RequiredFieldValidator1.errormessage = \"Enter Pan Number\";\n",
       "RequiredFieldValidator1.validationGroup = \"btnSearch\";\n",
       "RequiredFieldValidator1.evaluationfunction = \"RequiredFieldValidatorEvaluateIsValid\";\n",
       "RequiredFieldValidator1.initialvalue = \"\";\n",
       "var RequiredFieldValidator5 = document.all ? document.all[\"RequiredFieldValidator5\"] : document.getElementById(\"RequiredFieldValidator5\");\n",
       "RequiredFieldValidator5.controltovalidate = \"txtItnrMdtCapcha\";\n",
       "RequiredFieldValidator5.focusOnError = \"t\";\n",
       "RequiredFieldValidator5.errormessage = \"Enter Captcha Text\";\n",
       "RequiredFieldValidator5.validationGroup = \"btnSearch\";\n",
       "RequiredFieldValidator5.evaluationfunction = \"RequiredFieldValidatorEvaluateIsValid\";\n",
       "RequiredFieldValidator5.initialvalue = \"\";\n",
       "//]]>\n",
       "</script>\n",
       "<script type=\"text/javascript\">\n",
       "//<![CDATA[\n",
       "\n",
       "var Page_ValidationActive = false;\n",
       "if (typeof(ValidatorOnLoad) == \"function\") {\n",
       "    ValidatorOnLoad();\n",
       "}\n",
       "\n",
       "function ValidatorOnSubmit() {\n",
       "    if (Page_ValidationActive) {\n",
       "        return ValidatorCommonOnSubmit();\n",
       "    }\n",
       "    else {\n",
       "        return true;\n",
       "    }\n",
       "}\n",
       "        \n",
       "document.getElementById('RequiredFieldValidator1').dispose = function() {\n",
       "    Array.remove(Page_Validators, document.getElementById('RequiredFieldValidator1'));\n",
       "}\n",
       "\n",
       "document.getElementById('RequiredFieldValidator5').dispose = function() {\n",
       "    Array.remove(Page_Validators, document.getElementById('RequiredFieldValidator5'));\n",
       "}\n",
       "//]]>\n",
       "</script>\n",
       "</form>\n",
       "</body>\n",
       "</html>"
      ]
     },
     "execution_count": 37,
     "metadata": {},
     "output_type": "execute_result"
    }
   ],
   "source": [
    "soup"
   ]
  },
  {
   "cell_type": "code",
   "execution_count": 38,
   "id": "3059d3cf",
   "metadata": {},
   "outputs": [],
   "source": [
    "table = soup.find(\"table\",attrs={\"id\":\"PanDetails\"})"
   ]
  },
  {
   "cell_type": "code",
   "execution_count": 40,
   "id": "d3396804",
   "metadata": {},
   "outputs": [
    {
     "data": {
      "text/plain": [
       "<table id=\"PanDetails\" width=\"100%\">\n",
       "<tr>\n",
       "<td class=\"running\" colspan=\"4\" nowrap=\"nowrap\" style=\"border-top: 2px solid Blue; text-align: center; font-weight: bold;font-size: small; font-family: Trebuchet MS; \">\n",
       "\t\t\t\t\tCKYC APPLICATION STATUS SUBMITTED TO KARVY\n",
       "\t\t\t\t</td>\n",
       "</tr>\n",
       "<tr>\n",
       "<td class=\"running\" nowrap=\"nowrap\" style=\"font-size: small; font-family: Trebuchet MS; font-weight: bold;\">CKYC Apln. Date : </td>\n",
       "<td class=\"running\" nowrap=\"nowrap\" style=\"font-size: small; font-family: Trebuchet MS; font-weight: bold;\">\n",
       "<span id=\"lblCkycDate\"></span>\n",
       "</td>\n",
       "<td class=\"running\" nowrap=\"nowrap\" style=\"font-size: small; font-family: Trebuchet MS; font-weight: bold;\">CKYC Apln. Status :</td>\n",
       "<td class=\"running\" nowrap=\"nowrap\" style=\"font-size: small; font-family: Trebuchet MS; font-weight: bold;\">\n",
       "<span id=\"lblCkycStatus\"></span>\n",
       "</td>\n",
       "</tr>\n",
       "<tr>\n",
       "<td class=\"running\" nowrap=\"nowrap\" style=\"font-size: small; font-family: Trebuchet MS; font-weight: bold;\">\n",
       "\t\t\t\t\tCKYC Ack. No.\n",
       "\t\t\t\t\t: </td>\n",
       "<td class=\"running\" nowrap=\"nowrap\" style=\"font-size: small; font-family: Trebuchet MS; font-weight: bold;\">\n",
       "<span id=\"lblCkycAckNumber\"></span>\n",
       "</td>\n",
       "<td class=\"running\" nowrap=\"nowrap\" style=\"font-size: small; font-family: Trebuchet MS; font-weight: bold;\">CKYC ID :</td>\n",
       "<td class=\"running\" nowrap=\"nowrap\" style=\"font-size: small; font-family: Trebuchet MS; font-weight: bold;\">\n",
       "<span id=\"lblCkycRefNumber\"></span>\n",
       "</td>\n",
       "</tr>\n",
       "<tr>\n",
       "<td colspan=\"4\">\n",
       "\t\t\t\t\t \n",
       "\t\t\t\t</td>\n",
       "</tr>\n",
       "<tr>\n",
       "<td class=\"running\" colspan=\"4\" nowrap=\"nowrap\" style=\"border-top: 2px solid Blue; text-align: center; font-weight: bold;font-size: small; font-family: Trebuchet MS; \">\n",
       "\t\t\t\t\tKRA STATUS\n",
       "\t\t\t\t</td>\n",
       "</tr>\n",
       "<tr>\n",
       "<td class=\"running\" style=\"font-size: small; font-family: Trebuchet MS; font-weight: bold;\" width=\"12%\">Status as on :</td>\n",
       "<td class=\"running\" nowrap=\"nowrap\" style=\"font-size: small; font-family: Trebuchet MS; font-weight: bold;\" width=\"88%\">\n",
       "<span id=\"lblCheckedOn\">Mar 27, 2023 10:52:37</span>\n",
       "</td>\n",
       "<td nowrap=\"nowrap\" style=\"font-size: small; font-family: Trebuchet MS; font-weight: bold;\" width=\"20%\">KYC Flag : </td>\n",
       "<td class=\"running\" nowrap=\"nowrap\" style=\"font-size: small; font-family: Trebuchet MS; font-weight: bold;\" width=\"80%\">\n",
       "<span id=\"lblKycFlag\"></span>\n",
       "</td>\n",
       "</tr>\n",
       "<tr>\n",
       "<td class=\"running\" style=\"font-size: small; font-family: Trebuchet MS; font-weight: bold;\">PAN:</td>\n",
       "<td class=\"running\" nowrap=\"nowrap\" style=\"font-size: small; font-family: Trebuchet MS; font-weight: bold;\">\n",
       "<span id=\"lblPan\">AGRPM0511F</span>\n",
       "</td>\n",
       "<td class=\"running\" nowrap=\"nowrap\" style=\"font-size: small; font-family: Trebuchet MS; font-weight: bold;\">eSIGN Flag : </td>\n",
       "<td class=\"running\" nowrap=\"nowrap\" style=\"font-size: small; font-family: Trebuchet MS; font-weight: bold;\">\n",
       "<span id=\"lbleSignFlag\"></span>\n",
       "</td>\n",
       "</tr>\n",
       "<tr>\n",
       "<td class=\"running\" nowrap=\"nowrap\" style=\"font-size: small; font-family: Trebuchet MS; font-weight: bold;\"></td>\n",
       "<td class=\"running\" nowrap=\"nowrap\" style=\"font-size: small; font-family: Trebuchet MS; font-weight: bold;\">\n",
       "</td>\n",
       "<td class=\"running\" nowrap=\"nowrap\" style=\"font-size: small; font-family: Trebuchet MS; font-weight: bold;\">IPV Flag :</td>\n",
       "<td class=\"running\" nowrap=\"nowrap\" style=\"font-size: small; font-family: Trebuchet MS; font-weight: bold;\">\n",
       "<span id=\"lbleIpvFlag\">IPV Exempt</span>\n",
       "</td>\n",
       "</tr>\n",
       "</table>"
      ]
     },
     "execution_count": 40,
     "metadata": {},
     "output_type": "execute_result"
    }
   ],
   "source": [
    "table\n"
   ]
  },
  {
   "cell_type": "code",
   "execution_count": 41,
   "id": "2021a87c",
   "metadata": {},
   "outputs": [
    {
     "name": "stdout",
     "output_type": "stream",
     "text": [
      "index 0: CKYC APPLICATION STATUS SUBMITTED TO KARVY\n"
     ]
    }
   ],
   "source": [
    "tds = table.tr.find_all('td')\n",
    "for n, td in enumerate(tds):\n",
    "    print(f\"index {n}: {td.text.strip()}\")"
   ]
  },
  {
   "cell_type": "code",
   "execution_count": 42,
   "id": "fb946ee0",
   "metadata": {},
   "outputs": [],
   "source": [
    "r = table.find_all('tr')"
   ]
  },
  {
   "cell_type": "code",
   "execution_count": 43,
   "id": "0806e366",
   "metadata": {},
   "outputs": [
    {
     "data": {
      "text/plain": [
       "[<tr>\n",
       " <td class=\"running\" colspan=\"4\" nowrap=\"nowrap\" style=\"border-top: 2px solid Blue; text-align: center; font-weight: bold;font-size: small; font-family: Trebuchet MS; \">\n",
       " \t\t\t\t\tCKYC APPLICATION STATUS SUBMITTED TO KARVY\n",
       " \t\t\t\t</td>\n",
       " </tr>,\n",
       " <tr>\n",
       " <td class=\"running\" nowrap=\"nowrap\" style=\"font-size: small; font-family: Trebuchet MS; font-weight: bold;\">CKYC Apln. Date : </td>\n",
       " <td class=\"running\" nowrap=\"nowrap\" style=\"font-size: small; font-family: Trebuchet MS; font-weight: bold;\">\n",
       " <span id=\"lblCkycDate\"></span>\n",
       " </td>\n",
       " <td class=\"running\" nowrap=\"nowrap\" style=\"font-size: small; font-family: Trebuchet MS; font-weight: bold;\">CKYC Apln. Status :</td>\n",
       " <td class=\"running\" nowrap=\"nowrap\" style=\"font-size: small; font-family: Trebuchet MS; font-weight: bold;\">\n",
       " <span id=\"lblCkycStatus\"></span>\n",
       " </td>\n",
       " </tr>,\n",
       " <tr>\n",
       " <td class=\"running\" nowrap=\"nowrap\" style=\"font-size: small; font-family: Trebuchet MS; font-weight: bold;\">\n",
       " \t\t\t\t\tCKYC Ack. No.\n",
       " \t\t\t\t\t: </td>\n",
       " <td class=\"running\" nowrap=\"nowrap\" style=\"font-size: small; font-family: Trebuchet MS; font-weight: bold;\">\n",
       " <span id=\"lblCkycAckNumber\"></span>\n",
       " </td>\n",
       " <td class=\"running\" nowrap=\"nowrap\" style=\"font-size: small; font-family: Trebuchet MS; font-weight: bold;\">CKYC ID :</td>\n",
       " <td class=\"running\" nowrap=\"nowrap\" style=\"font-size: small; font-family: Trebuchet MS; font-weight: bold;\">\n",
       " <span id=\"lblCkycRefNumber\"></span>\n",
       " </td>\n",
       " </tr>,\n",
       " <tr>\n",
       " <td colspan=\"4\">\n",
       " \t\t\t\t\t \n",
       " \t\t\t\t</td>\n",
       " </tr>,\n",
       " <tr>\n",
       " <td class=\"running\" colspan=\"4\" nowrap=\"nowrap\" style=\"border-top: 2px solid Blue; text-align: center; font-weight: bold;font-size: small; font-family: Trebuchet MS; \">\n",
       " \t\t\t\t\tKRA STATUS\n",
       " \t\t\t\t</td>\n",
       " </tr>,\n",
       " <tr>\n",
       " <td class=\"running\" style=\"font-size: small; font-family: Trebuchet MS; font-weight: bold;\" width=\"12%\">Status as on :</td>\n",
       " <td class=\"running\" nowrap=\"nowrap\" style=\"font-size: small; font-family: Trebuchet MS; font-weight: bold;\" width=\"88%\">\n",
       " <span id=\"lblCheckedOn\">Mar 27, 2023 10:52:37</span>\n",
       " </td>\n",
       " <td nowrap=\"nowrap\" style=\"font-size: small; font-family: Trebuchet MS; font-weight: bold;\" width=\"20%\">KYC Flag : </td>\n",
       " <td class=\"running\" nowrap=\"nowrap\" style=\"font-size: small; font-family: Trebuchet MS; font-weight: bold;\" width=\"80%\">\n",
       " <span id=\"lblKycFlag\"></span>\n",
       " </td>\n",
       " </tr>,\n",
       " <tr>\n",
       " <td class=\"running\" style=\"font-size: small; font-family: Trebuchet MS; font-weight: bold;\">PAN:</td>\n",
       " <td class=\"running\" nowrap=\"nowrap\" style=\"font-size: small; font-family: Trebuchet MS; font-weight: bold;\">\n",
       " <span id=\"lblPan\">AGRPM0511F</span>\n",
       " </td>\n",
       " <td class=\"running\" nowrap=\"nowrap\" style=\"font-size: small; font-family: Trebuchet MS; font-weight: bold;\">eSIGN Flag : </td>\n",
       " <td class=\"running\" nowrap=\"nowrap\" style=\"font-size: small; font-family: Trebuchet MS; font-weight: bold;\">\n",
       " <span id=\"lbleSignFlag\"></span>\n",
       " </td>\n",
       " </tr>,\n",
       " <tr>\n",
       " <td class=\"running\" nowrap=\"nowrap\" style=\"font-size: small; font-family: Trebuchet MS; font-weight: bold;\"></td>\n",
       " <td class=\"running\" nowrap=\"nowrap\" style=\"font-size: small; font-family: Trebuchet MS; font-weight: bold;\">\n",
       " </td>\n",
       " <td class=\"running\" nowrap=\"nowrap\" style=\"font-size: small; font-family: Trebuchet MS; font-weight: bold;\">IPV Flag :</td>\n",
       " <td class=\"running\" nowrap=\"nowrap\" style=\"font-size: small; font-family: Trebuchet MS; font-weight: bold;\">\n",
       " <span id=\"lbleIpvFlag\">IPV Exempt</span>\n",
       " </td>\n",
       " </tr>]"
      ]
     },
     "execution_count": 43,
     "metadata": {},
     "output_type": "execute_result"
    }
   ],
   "source": [
    "r"
   ]
  },
  {
   "cell_type": "code",
   "execution_count": 44,
   "id": "79fd2732",
   "metadata": {},
   "outputs": [],
   "source": [
    "items= []\n",
    "rows = table.find_all('tr')\n",
    "for row in rows:\n",
    "    cols=row.find_all('td')\n",
    "    cols=[x.text.strip() for x in cols]\n",
    "    items.append(cols)"
   ]
  },
  {
   "cell_type": "code",
   "execution_count": 45,
   "id": "74d2014e",
   "metadata": {},
   "outputs": [
    {
     "data": {
      "text/plain": [
       "[['CKYC APPLICATION STATUS SUBMITTED TO KARVY'],\n",
       " ['CKYC Apln. Date :', '', 'CKYC Apln. Status :', ''],\n",
       " ['CKYC Ack. No.\\r\\n\\t\\t\\t\\t\\t:', '', 'CKYC ID :', ''],\n",
       " [''],\n",
       " ['KRA STATUS'],\n",
       " ['Status as on :', 'Mar 27, 2023 10:52:37', 'KYC Flag :', ''],\n",
       " ['PAN:', 'AGRPM0511F', 'eSIGN Flag :', ''],\n",
       " ['', '', 'IPV Flag :', 'IPV Exempt']]"
      ]
     },
     "execution_count": 45,
     "metadata": {},
     "output_type": "execute_result"
    }
   ],
   "source": [
    "items"
   ]
  },
  {
   "cell_type": "code",
   "execution_count": 46,
   "id": "8a378c66",
   "metadata": {},
   "outputs": [],
   "source": [
    "table2 = soup.find('table',attrs={'id':'GridView1'})"
   ]
  },
  {
   "cell_type": "code",
   "execution_count": 47,
   "id": "678c922a",
   "metadata": {},
   "outputs": [
    {
     "data": {
      "text/plain": [
       "<table align=\"Center\" cellpadding=\"4\" cellspacing=\"0\" id=\"GridView1\" rules=\"all\" style=\"background-color:White;border-color:#3366CC;border-width:1px;border-style:Solid;font-family:Trebuchet MS;font-size:Small;height:127px;width:1050px;border-collapse:collapse;text-align: center;\">\n",
       "<tr style=\"color:White;background-color:#0EB1E8;\">\n",
       "<th scope=\"col\">KRA</th><th scope=\"col\">Date Of Upload</th><th scope=\"col\">Status</th><th scope=\"col\">Status Description</th><th scope=\"col\">Status Date</th><th scope=\"col\">Date Of Modification</th><th scope=\"col\">Modify Status</th><th scope=\"col\">Modify Hold Reasons</th>\n",
       "</tr><tr>\n",
       "<td>KARVY</td><td> </td><td>05</td><td>Not Available</td><td> </td><td> </td><td> </td><td> </td>\n",
       "</tr><tr style=\"background-color:AliceBlue;\">\n",
       "<td>CVL</td><td>25-05-2022 04:23:29</td><td>02</td><td>KYC Registered</td><td>08-06-2022 18:17:19</td><td> </td><td>Not Available</td><td> </td>\n",
       "</tr><tr>\n",
       "<td>NDML</td><td> </td><td>05</td><td>Not Available</td><td> </td><td> </td><td>Not Available</td><td> </td>\n",
       "</tr><tr style=\"background-color:AliceBlue;\">\n",
       "<td>CAMS</td><td> </td><td>05</td><td>Not Available</td><td> </td><td> </td><td>Not Available</td><td> </td>\n",
       "</tr><tr>\n",
       "<td>DOTEX</td><td> </td><td>05</td><td>Not Available</td><td> </td><td> </td><td> </td><td> </td>\n",
       "</tr><tr style=\"background-color:AliceBlue;\">\n",
       "<td>BSE</td><td> </td><td> </td><td>The operation has timed out</td><td> </td><td> </td><td> </td><td> </td>\n",
       "</tr>\n",
       "</table>"
      ]
     },
     "execution_count": 47,
     "metadata": {},
     "output_type": "execute_result"
    }
   ],
   "source": [
    "table2"
   ]
  },
  {
   "cell_type": "code",
   "execution_count": 48,
   "id": "86a57f79",
   "metadata": {},
   "outputs": [],
   "source": [
    "theadings = []\n",
    "for th in table2.find_all('th'):\n",
    "    theadings.append(th.text.strip())"
   ]
  },
  {
   "cell_type": "code",
   "execution_count": 49,
   "id": "66f1ad7d",
   "metadata": {},
   "outputs": [
    {
     "data": {
      "text/plain": [
       "['KRA',\n",
       " 'Date Of Upload',\n",
       " 'Status',\n",
       " 'Status Description',\n",
       " 'Status Date',\n",
       " 'Date Of Modification',\n",
       " 'Modify Status',\n",
       " 'Modify Hold Reasons']"
      ]
     },
     "execution_count": 49,
     "metadata": {},
     "output_type": "execute_result"
    }
   ],
   "source": [
    "theadings"
   ]
  },
  {
   "cell_type": "code",
   "execution_count": 50,
   "id": "97084338",
   "metadata": {},
   "outputs": [],
   "source": [
    "import json\n",
    "def convert_json():\n",
    "    headers = {}\n",
    "    th = table2.find_all('th')\n",
    "    for i in range(len(th)):\n",
    "        headers[i] = th[i].text.strip()\n",
    "    rows = table2.find_all('tr')\n",
    "    data = []\n",
    "    for row in rows:\n",
    "        cells = row.find_all(\"td\")\n",
    "        if th:\n",
    "            items = {}\n",
    "            if len(cells) > 0:\n",
    "                for index in headers:\n",
    "                    items[headers[index]] = cells[index].text.strip()\n",
    "            else:\n",
    "                items = []\n",
    "                for index in cells:\n",
    "                    items.append(index.text.strip())\n",
    "            if items:\n",
    "                data.append(items)\n",
    "    return json.dumps(data, indent=4)"
   ]
  },
  {
   "cell_type": "code",
   "execution_count": 51,
   "id": "21737ec4",
   "metadata": {},
   "outputs": [],
   "source": [
    " val = convert_json()"
   ]
  },
  {
   "cell_type": "code",
   "execution_count": 52,
   "id": "f9f2acee",
   "metadata": {},
   "outputs": [
    {
     "data": {
      "text/plain": [
       "'[\\n    {\\n        \"KRA\": \"KARVY\",\\n        \"Date Of Upload\": \"\",\\n        \"Status\": \"05\",\\n        \"Status Description\": \"Not Available\",\\n        \"Status Date\": \"\",\\n        \"Date Of Modification\": \"\",\\n        \"Modify Status\": \"\",\\n        \"Modify Hold Reasons\": \"\"\\n    },\\n    {\\n        \"KRA\": \"CVL\",\\n        \"Date Of Upload\": \"25-05-2022 04:23:29\",\\n        \"Status\": \"02\",\\n        \"Status Description\": \"KYC Registered\",\\n        \"Status Date\": \"08-06-2022 18:17:19\",\\n        \"Date Of Modification\": \"\",\\n        \"Modify Status\": \"Not Available\",\\n        \"Modify Hold Reasons\": \"\"\\n    },\\n    {\\n        \"KRA\": \"NDML\",\\n        \"Date Of Upload\": \"\",\\n        \"Status\": \"05\",\\n        \"Status Description\": \"Not Available\",\\n        \"Status Date\": \"\",\\n        \"Date Of Modification\": \"\",\\n        \"Modify Status\": \"Not Available\",\\n        \"Modify Hold Reasons\": \"\"\\n    },\\n    {\\n        \"KRA\": \"CAMS\",\\n        \"Date Of Upload\": \"\",\\n        \"Status\": \"05\",\\n        \"Status Description\": \"Not Available\",\\n        \"Status Date\": \"\",\\n        \"Date Of Modification\": \"\",\\n        \"Modify Status\": \"Not Available\",\\n        \"Modify Hold Reasons\": \"\"\\n    },\\n    {\\n        \"KRA\": \"DOTEX\",\\n        \"Date Of Upload\": \"\",\\n        \"Status\": \"05\",\\n        \"Status Description\": \"Not Available\",\\n        \"Status Date\": \"\",\\n        \"Date Of Modification\": \"\",\\n        \"Modify Status\": \"\",\\n        \"Modify Hold Reasons\": \"\"\\n    },\\n    {\\n        \"KRA\": \"BSE\",\\n        \"Date Of Upload\": \"\",\\n        \"Status\": \"\",\\n        \"Status Description\": \"The operation has timed out\",\\n        \"Status Date\": \"\",\\n        \"Date Of Modification\": \"\",\\n        \"Modify Status\": \"\",\\n        \"Modify Hold Reasons\": \"\"\\n    }\\n]'"
      ]
     },
     "execution_count": 52,
     "metadata": {},
     "output_type": "execute_result"
    }
   ],
   "source": [
    "val"
   ]
  },
  {
   "cell_type": "code",
   "execution_count": null,
   "id": "78e5286a",
   "metadata": {},
   "outputs": [],
   "source": []
  }
 ],
 "metadata": {
  "kernelspec": {
   "display_name": "Python 3 (ipykernel)",
   "language": "python",
   "name": "python3"
  },
  "language_info": {
   "codemirror_mode": {
    "name": "ipython",
    "version": 3
   },
   "file_extension": ".py",
   "mimetype": "text/x-python",
   "name": "python",
   "nbconvert_exporter": "python",
   "pygments_lexer": "ipython3",
   "version": "3.8.10"
  }
 },
 "nbformat": 4,
 "nbformat_minor": 5
}
